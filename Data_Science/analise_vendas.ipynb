{
 "cells": [
  {
   "cell_type": "markdown",
   "id": "9da65a3a-9da8-4b13-84f2-b7578a749e34",
   "metadata": {},
   "source": [
    "# Projeto Análise de Vendas "
   ]
  },
  {
   "cell_type": "markdown",
   "id": "e1256aa1-6dd2-4a27-ab7d-905cf79237a6",
   "metadata": {},
   "source": [
    "#### Imports e base de dados"
   ]
  },
  {
   "cell_type": "code",
   "execution_count": 1293,
   "id": "ccdd0ab5-6727-438a-b9d2-4ee90c7ce4ac",
   "metadata": {},
   "outputs": [],
   "source": [
    "# gerais\n",
    "import numpy as np\n",
    "import pandas as pd\n",
    "import seaborn as sns\n",
    "import matplotlib.pyplot as plt\n",
    "\n",
    "# series temporais\n",
    "from statsmodels.tsa.stattools import adfuller\n",
    "from statsmodels.graphics.tsaplots import plot_acf, plot_pacf\n",
    "from statsmodels.tsa.arima.model import ARIMA\n",
    "from sklearn.metrics import mean_squared_error, mean_absolute_percentage_error, mean_absolute_error\n"
   ]
  },
  {
   "cell_type": "code",
   "execution_count": 1295,
   "id": "9074d909-f389-4c52-8525-68877cda962d",
   "metadata": {},
   "outputs": [
    {
     "data": {
      "text/html": [
       "<div>\n",
       "<style scoped>\n",
       "    .dataframe tbody tr th:only-of-type {\n",
       "        vertical-align: middle;\n",
       "    }\n",
       "\n",
       "    .dataframe tbody tr th {\n",
       "        vertical-align: top;\n",
       "    }\n",
       "\n",
       "    .dataframe thead th {\n",
       "        text-align: right;\n",
       "    }\n",
       "</style>\n",
       "<table border=\"1\" class=\"dataframe\">\n",
       "  <thead>\n",
       "    <tr style=\"text-align: right;\">\n",
       "      <th></th>\n",
       "      <th>Transaction ID</th>\n",
       "      <th>Date</th>\n",
       "      <th>Gender</th>\n",
       "      <th>Age</th>\n",
       "      <th>Age Group</th>\n",
       "      <th>Product Category</th>\n",
       "      <th>Quantity</th>\n",
       "      <th>Price per Unit</th>\n",
       "      <th>Total Amount</th>\n",
       "      <th>Unnamed: 9</th>\n",
       "      <th>...</th>\n",
       "      <th>Unnamed: 14</th>\n",
       "      <th>Unnamed: 15</th>\n",
       "      <th>Unnamed: 16</th>\n",
       "      <th>Min_age</th>\n",
       "      <th>Max_age</th>\n",
       "      <th>Avg_age</th>\n",
       "      <th>Total Sales Revenue</th>\n",
       "      <th>Average Order value</th>\n",
       "      <th>Category</th>\n",
       "      <th>Sales</th>\n",
       "    </tr>\n",
       "  </thead>\n",
       "  <tbody>\n",
       "    <tr>\n",
       "      <th>0</th>\n",
       "      <td>1</td>\n",
       "      <td>11/24/2023</td>\n",
       "      <td>Male</td>\n",
       "      <td>34</td>\n",
       "      <td>Middle Age</td>\n",
       "      <td>Beauty</td>\n",
       "      <td>3</td>\n",
       "      <td>50</td>\n",
       "      <td>150</td>\n",
       "      <td>NaN</td>\n",
       "      <td>...</td>\n",
       "      <td>NaN</td>\n",
       "      <td>NaN</td>\n",
       "      <td>NaN</td>\n",
       "      <td>18.0</td>\n",
       "      <td>64.0</td>\n",
       "      <td>41.0</td>\n",
       "      <td>456000.0</td>\n",
       "      <td>456.0</td>\n",
       "      <td>Electronics</td>\n",
       "      <td>156905.0</td>\n",
       "    </tr>\n",
       "    <tr>\n",
       "      <th>1</th>\n",
       "      <td>2</td>\n",
       "      <td>2/27/2023</td>\n",
       "      <td>Female</td>\n",
       "      <td>26</td>\n",
       "      <td>Adolescent</td>\n",
       "      <td>Clothing</td>\n",
       "      <td>2</td>\n",
       "      <td>500</td>\n",
       "      <td>1000</td>\n",
       "      <td>NaN</td>\n",
       "      <td>...</td>\n",
       "      <td>NaN</td>\n",
       "      <td>NaN</td>\n",
       "      <td>NaN</td>\n",
       "      <td>NaN</td>\n",
       "      <td>NaN</td>\n",
       "      <td>NaN</td>\n",
       "      <td>NaN</td>\n",
       "      <td>NaN</td>\n",
       "      <td>Clothing</td>\n",
       "      <td>155580.0</td>\n",
       "    </tr>\n",
       "    <tr>\n",
       "      <th>2</th>\n",
       "      <td>3</td>\n",
       "      <td>1/13/2023</td>\n",
       "      <td>Male</td>\n",
       "      <td>50</td>\n",
       "      <td>Middle Age</td>\n",
       "      <td>Electronics</td>\n",
       "      <td>1</td>\n",
       "      <td>30</td>\n",
       "      <td>30</td>\n",
       "      <td>NaN</td>\n",
       "      <td>...</td>\n",
       "      <td>NaN</td>\n",
       "      <td>NaN</td>\n",
       "      <td>NaN</td>\n",
       "      <td>NaN</td>\n",
       "      <td>NaN</td>\n",
       "      <td>NaN</td>\n",
       "      <td>NaN</td>\n",
       "      <td>NaN</td>\n",
       "      <td>Beauty</td>\n",
       "      <td>143515.0</td>\n",
       "    </tr>\n",
       "  </tbody>\n",
       "</table>\n",
       "<p>3 rows × 24 columns</p>\n",
       "</div>"
      ],
      "text/plain": [
       "   Transaction ID        Date  Gender  Age   Age Group Product Category  \\\n",
       "0               1  11/24/2023    Male   34  Middle Age           Beauty   \n",
       "1               2   2/27/2023  Female   26  Adolescent         Clothing   \n",
       "2               3   1/13/2023    Male   50  Middle Age      Electronics   \n",
       "\n",
       "   Quantity  Price per Unit  Total Amount  Unnamed: 9  ...  Unnamed: 14  \\\n",
       "0         3              50           150         NaN  ...          NaN   \n",
       "1         2             500          1000         NaN  ...          NaN   \n",
       "2         1              30            30         NaN  ...          NaN   \n",
       "\n",
       "   Unnamed: 15  Unnamed: 16  Min_age  Max_age  Avg_age  Total Sales Revenue  \\\n",
       "0          NaN          NaN     18.0     64.0     41.0             456000.0   \n",
       "1          NaN          NaN      NaN      NaN      NaN                  NaN   \n",
       "2          NaN          NaN      NaN      NaN      NaN                  NaN   \n",
       "\n",
       "   Average Order value     Category     Sales  \n",
       "0                456.0  Electronics  156905.0  \n",
       "1                  NaN     Clothing  155580.0  \n",
       "2                  NaN       Beauty  143515.0  \n",
       "\n",
       "[3 rows x 24 columns]"
      ]
     },
     "execution_count": 1295,
     "metadata": {},
     "output_type": "execute_result"
    }
   ],
   "source": [
    "url = 'https://raw.githubusercontent.com/Seunfunmee/Retail-Sales-Data-Set/refs/heads/main/Retail%20Sales%20Data%20Set.csv'\n",
    "df = pd.read_csv(url)\n",
    "df.head(3)"
   ]
  },
  {
   "cell_type": "code",
   "execution_count": null,
   "id": "ead1591b-11a3-4051-83b2-b286c25afdd4",
   "metadata": {},
   "outputs": [],
   "source": []
  },
  {
   "cell_type": "markdown",
   "id": "3c32b3ce-686a-4af4-8049-70d69a73192e",
   "metadata": {},
   "source": [
    "## Análise exploratória"
   ]
  },
  {
   "cell_type": "code",
   "execution_count": 1299,
   "id": "5051fbb3-6631-4b55-9f9a-dcfadc9941c6",
   "metadata": {},
   "outputs": [
    {
     "data": {
      "text/html": [
       "<div>\n",
       "<style scoped>\n",
       "    .dataframe tbody tr th:only-of-type {\n",
       "        vertical-align: middle;\n",
       "    }\n",
       "\n",
       "    .dataframe tbody tr th {\n",
       "        vertical-align: top;\n",
       "    }\n",
       "\n",
       "    .dataframe thead th {\n",
       "        text-align: right;\n",
       "    }\n",
       "</style>\n",
       "<table border=\"1\" class=\"dataframe\">\n",
       "  <thead>\n",
       "    <tr style=\"text-align: right;\">\n",
       "      <th></th>\n",
       "      <th>Transaction ID</th>\n",
       "      <th>Date</th>\n",
       "      <th>Gender</th>\n",
       "      <th>Age</th>\n",
       "      <th>Age Group</th>\n",
       "      <th>Product Category</th>\n",
       "      <th>Quantity</th>\n",
       "      <th>Price per Unit</th>\n",
       "      <th>Total Amount</th>\n",
       "      <th>Min_age</th>\n",
       "      <th>Max_age</th>\n",
       "      <th>Avg_age</th>\n",
       "      <th>Total Sales Revenue</th>\n",
       "      <th>Average Order value</th>\n",
       "      <th>Category</th>\n",
       "      <th>Sales</th>\n",
       "    </tr>\n",
       "  </thead>\n",
       "  <tbody>\n",
       "    <tr>\n",
       "      <th>0</th>\n",
       "      <td>1</td>\n",
       "      <td>11/24/2023</td>\n",
       "      <td>Male</td>\n",
       "      <td>34</td>\n",
       "      <td>Middle Age</td>\n",
       "      <td>Beauty</td>\n",
       "      <td>3</td>\n",
       "      <td>50</td>\n",
       "      <td>150</td>\n",
       "      <td>18.0</td>\n",
       "      <td>64.0</td>\n",
       "      <td>41.0</td>\n",
       "      <td>456000.0</td>\n",
       "      <td>456.0</td>\n",
       "      <td>Electronics</td>\n",
       "      <td>156905.0</td>\n",
       "    </tr>\n",
       "    <tr>\n",
       "      <th>1</th>\n",
       "      <td>2</td>\n",
       "      <td>2/27/2023</td>\n",
       "      <td>Female</td>\n",
       "      <td>26</td>\n",
       "      <td>Adolescent</td>\n",
       "      <td>Clothing</td>\n",
       "      <td>2</td>\n",
       "      <td>500</td>\n",
       "      <td>1000</td>\n",
       "      <td>NaN</td>\n",
       "      <td>NaN</td>\n",
       "      <td>NaN</td>\n",
       "      <td>NaN</td>\n",
       "      <td>NaN</td>\n",
       "      <td>Clothing</td>\n",
       "      <td>155580.0</td>\n",
       "    </tr>\n",
       "  </tbody>\n",
       "</table>\n",
       "</div>"
      ],
      "text/plain": [
       "   Transaction ID        Date  Gender  Age   Age Group Product Category  \\\n",
       "0               1  11/24/2023    Male   34  Middle Age           Beauty   \n",
       "1               2   2/27/2023  Female   26  Adolescent         Clothing   \n",
       "\n",
       "   Quantity  Price per Unit  Total Amount  Min_age  Max_age  Avg_age  \\\n",
       "0         3              50           150     18.0     64.0     41.0   \n",
       "1         2             500          1000      NaN      NaN      NaN   \n",
       "\n",
       "   Total Sales Revenue  Average Order value     Category     Sales  \n",
       "0             456000.0                456.0  Electronics  156905.0  \n",
       "1                  NaN                  NaN     Clothing  155580.0  "
      ]
     },
     "execution_count": 1299,
     "metadata": {},
     "output_type": "execute_result"
    }
   ],
   "source": [
    "# as colunas Unnamed de 9 a 16 são espaços para melhorar a vizualizão quando na planilha, para essa análise elas serão dropadas\n",
    "# drop das colunas não usadas\n",
    "\n",
    "colunas_removidas = ['Unnamed: 9', 'Unnamed: 10', 'Unnamed: 11', 'Unnamed: 12',\n",
    "                    'Unnamed: 13', 'Unnamed: 14', 'Unnamed: 15', 'Unnamed: 16']\n",
    "df = df.drop(columns = colunas_removidas) \n",
    "df.head(2)"
   ]
  },
  {
   "cell_type": "code",
   "execution_count": 1301,
   "id": "08a4cd62-3eb9-477b-83f7-ff1b7324e78f",
   "metadata": {},
   "outputs": [
    {
     "name": "stdout",
     "output_type": "stream",
     "text": [
      "<class 'pandas.core.frame.DataFrame'>\n",
      "RangeIndex: 1000 entries, 0 to 999\n",
      "Data columns (total 16 columns):\n",
      " #   Column               Non-Null Count  Dtype  \n",
      "---  ------               --------------  -----  \n",
      " 0   Transaction ID       1000 non-null   int64  \n",
      " 1   Date                 1000 non-null   object \n",
      " 2   Gender               1000 non-null   object \n",
      " 3   Age                  1000 non-null   int64  \n",
      " 4   Age Group            1000 non-null   object \n",
      " 5   Product Category     1000 non-null   object \n",
      " 6   Quantity             1000 non-null   int64  \n",
      " 7   Price per Unit       1000 non-null   int64  \n",
      " 8   Total Amount         1000 non-null   int64  \n",
      " 9   Min_age              1 non-null      float64\n",
      " 10  Max_age              1 non-null      float64\n",
      " 11  Avg_age              1 non-null      float64\n",
      " 12  Total Sales Revenue  1 non-null      float64\n",
      " 13  Average Order value  1 non-null      float64\n",
      " 14   Category            3 non-null      object \n",
      " 15  Sales                3 non-null      float64\n",
      "dtypes: float64(6), int64(5), object(5)\n",
      "memory usage: 125.1+ KB\n"
     ]
    }
   ],
   "source": [
    "df.info()"
   ]
  },
  {
   "cell_type": "code",
   "execution_count": 1303,
   "id": "be267e8f-dee9-401c-8d80-a91714df828f",
   "metadata": {},
   "outputs": [
    {
     "data": {
      "text/html": [
       "<div>\n",
       "<style scoped>\n",
       "    .dataframe tbody tr th:only-of-type {\n",
       "        vertical-align: middle;\n",
       "    }\n",
       "\n",
       "    .dataframe tbody tr th {\n",
       "        vertical-align: top;\n",
       "    }\n",
       "\n",
       "    .dataframe thead th {\n",
       "        text-align: right;\n",
       "    }\n",
       "</style>\n",
       "<table border=\"1\" class=\"dataframe\">\n",
       "  <thead>\n",
       "    <tr style=\"text-align: right;\">\n",
       "      <th></th>\n",
       "      <th>Transaction ID</th>\n",
       "      <th>Date</th>\n",
       "      <th>Gender</th>\n",
       "      <th>Age</th>\n",
       "      <th>Age Group</th>\n",
       "      <th>Product Category</th>\n",
       "      <th>Quantity</th>\n",
       "      <th>Price per Unit</th>\n",
       "      <th>Total Amount</th>\n",
       "      <th>Total Sales Revenue</th>\n",
       "      <th>Average Order value</th>\n",
       "      <th>Category</th>\n",
       "      <th>Sales</th>\n",
       "    </tr>\n",
       "  </thead>\n",
       "  <tbody>\n",
       "    <tr>\n",
       "      <th>0</th>\n",
       "      <td>1</td>\n",
       "      <td>11/24/2023</td>\n",
       "      <td>Male</td>\n",
       "      <td>34</td>\n",
       "      <td>Middle Age</td>\n",
       "      <td>Beauty</td>\n",
       "      <td>3</td>\n",
       "      <td>50</td>\n",
       "      <td>150</td>\n",
       "      <td>456000.0</td>\n",
       "      <td>456.0</td>\n",
       "      <td>Electronics</td>\n",
       "      <td>156905.0</td>\n",
       "    </tr>\n",
       "    <tr>\n",
       "      <th>1</th>\n",
       "      <td>2</td>\n",
       "      <td>2/27/2023</td>\n",
       "      <td>Female</td>\n",
       "      <td>26</td>\n",
       "      <td>Adolescent</td>\n",
       "      <td>Clothing</td>\n",
       "      <td>2</td>\n",
       "      <td>500</td>\n",
       "      <td>1000</td>\n",
       "      <td>NaN</td>\n",
       "      <td>NaN</td>\n",
       "      <td>Clothing</td>\n",
       "      <td>155580.0</td>\n",
       "    </tr>\n",
       "  </tbody>\n",
       "</table>\n",
       "</div>"
      ],
      "text/plain": [
       "   Transaction ID        Date  Gender  Age   Age Group Product Category  \\\n",
       "0               1  11/24/2023    Male   34  Middle Age           Beauty   \n",
       "1               2   2/27/2023  Female   26  Adolescent         Clothing   \n",
       "\n",
       "   Quantity  Price per Unit  Total Amount  Total Sales Revenue  \\\n",
       "0         3              50           150             456000.0   \n",
       "1         2             500          1000                  NaN   \n",
       "\n",
       "   Average Order value     Category     Sales  \n",
       "0                456.0  Electronics  156905.0  \n",
       "1                  NaN     Clothing  155580.0  "
      ]
     },
     "execution_count": 1303,
     "metadata": {},
     "output_type": "execute_result"
    }
   ],
   "source": [
    "# drop das colunas min_age, mas_age e Avg_age por guardarem somente o valor minimo, maximo e a media das idades \n",
    "\n",
    "colunas_removidas = ['Min_age', 'Max_age', 'Avg_age']\n",
    "df = df.drop(columns = colunas_removidas) \n",
    "df.head(2)"
   ]
  },
  {
   "cell_type": "code",
   "execution_count": 1305,
   "id": "2ea47225-5dd7-4fad-aa7e-81ae330185af",
   "metadata": {},
   "outputs": [
    {
     "data": {
      "text/plain": [
       "456000"
      ]
     },
     "execution_count": 1305,
     "metadata": {},
     "output_type": "execute_result"
    }
   ],
   "source": [
    "# entendendo coluna Total Sales Revenue\n",
    "# se trata do valor total vendido, ou seja o valor vendido em toda a base\n",
    "igual_total_sale_revenue = df['Total Amount'].sum()\n",
    "igual_total_sale_revenue"
   ]
  },
  {
   "cell_type": "code",
   "execution_count": 1307,
   "id": "fc5ec407-6c35-46e3-82f7-4360b2520851",
   "metadata": {},
   "outputs": [
    {
     "data": {
      "text/html": [
       "<div>\n",
       "<style scoped>\n",
       "    .dataframe tbody tr th:only-of-type {\n",
       "        vertical-align: middle;\n",
       "    }\n",
       "\n",
       "    .dataframe tbody tr th {\n",
       "        vertical-align: top;\n",
       "    }\n",
       "\n",
       "    .dataframe thead th {\n",
       "        text-align: right;\n",
       "    }\n",
       "</style>\n",
       "<table border=\"1\" class=\"dataframe\">\n",
       "  <thead>\n",
       "    <tr style=\"text-align: right;\">\n",
       "      <th></th>\n",
       "      <th>Transaction ID</th>\n",
       "      <th>Date</th>\n",
       "      <th>Gender</th>\n",
       "      <th>Age</th>\n",
       "      <th>Age Group</th>\n",
       "      <th>Product Category</th>\n",
       "      <th>Quantity</th>\n",
       "      <th>Price per Unit</th>\n",
       "      <th>Total Amount</th>\n",
       "      <th>Average Order value</th>\n",
       "    </tr>\n",
       "  </thead>\n",
       "  <tbody>\n",
       "    <tr>\n",
       "      <th>0</th>\n",
       "      <td>1</td>\n",
       "      <td>11/24/2023</td>\n",
       "      <td>Male</td>\n",
       "      <td>34</td>\n",
       "      <td>Middle Age</td>\n",
       "      <td>Beauty</td>\n",
       "      <td>3</td>\n",
       "      <td>50</td>\n",
       "      <td>150</td>\n",
       "      <td>456.0</td>\n",
       "    </tr>\n",
       "    <tr>\n",
       "      <th>1</th>\n",
       "      <td>2</td>\n",
       "      <td>2/27/2023</td>\n",
       "      <td>Female</td>\n",
       "      <td>26</td>\n",
       "      <td>Adolescent</td>\n",
       "      <td>Clothing</td>\n",
       "      <td>2</td>\n",
       "      <td>500</td>\n",
       "      <td>1000</td>\n",
       "      <td>NaN</td>\n",
       "    </tr>\n",
       "  </tbody>\n",
       "</table>\n",
       "</div>"
      ],
      "text/plain": [
       "   Transaction ID        Date  Gender  Age   Age Group Product Category  \\\n",
       "0               1  11/24/2023    Male   34  Middle Age           Beauty   \n",
       "1               2   2/27/2023  Female   26  Adolescent         Clothing   \n",
       "\n",
       "   Quantity  Price per Unit  Total Amount  Average Order value  \n",
       "0         3              50           150                456.0  \n",
       "1         2             500          1000                  NaN  "
      ]
     },
     "execution_count": 1307,
     "metadata": {},
     "output_type": "execute_result"
    }
   ],
   "source": [
    "# removendo Total Sales Revenue e category, category só armazena as categorias possiveis na base\n",
    "# como a coluna Sales armazena somente o velor total vendido por categoria não usarei ela\n",
    "\n",
    "colunas_usadas = ['Transaction ID', 'Date', 'Gender', 'Age', 'Age Group', 'Product Category', 'Quantity', 'Price per Unit',\n",
    "                     'Total Amount', 'Average Order value']\n",
    "df_vendas = df[colunas_usadas]\n",
    "df_vendas.head(2)"
   ]
  },
  {
   "cell_type": "code",
   "execution_count": 1309,
   "id": "2499a0d5-99b1-4a23-874d-e3f6eed36b0c",
   "metadata": {},
   "outputs": [
    {
     "data": {
      "text/plain": [
       "1000"
      ]
     },
     "execution_count": 1309,
     "metadata": {},
     "output_type": "execute_result"
    }
   ],
   "source": [
    "# analisando se houveram clientes que fizeram mais de uma compra\n",
    "# como o df só tem 1000 registros (linhas) e a soma deu 1000 isso siguinifica que cada cliente só fez uma compra\n",
    "# ou seja o valor da coluna Average Order value não armazena a media do peido\n",
    "\n",
    "mais_de_uma_compra = df_vendas['Transaction ID'].value_counts()\n",
    "mais_de_uma_compra.sum()"
   ]
  },
  {
   "cell_type": "code",
   "execution_count": 1311,
   "id": "7af21bc8-c8bf-482a-9c02-22bfb2feeed7",
   "metadata": {},
   "outputs": [
    {
     "data": {
      "text/html": [
       "<div>\n",
       "<style scoped>\n",
       "    .dataframe tbody tr th:only-of-type {\n",
       "        vertical-align: middle;\n",
       "    }\n",
       "\n",
       "    .dataframe tbody tr th {\n",
       "        vertical-align: top;\n",
       "    }\n",
       "\n",
       "    .dataframe thead th {\n",
       "        text-align: right;\n",
       "    }\n",
       "</style>\n",
       "<table border=\"1\" class=\"dataframe\">\n",
       "  <thead>\n",
       "    <tr style=\"text-align: right;\">\n",
       "      <th></th>\n",
       "      <th>Product Category</th>\n",
       "      <th>Total_Amount</th>\n",
       "    </tr>\n",
       "  </thead>\n",
       "  <tbody>\n",
       "    <tr>\n",
       "      <th>0</th>\n",
       "      <td>Beauty</td>\n",
       "      <td>467.48</td>\n",
       "    </tr>\n",
       "    <tr>\n",
       "      <th>1</th>\n",
       "      <td>Clothing</td>\n",
       "      <td>443.25</td>\n",
       "    </tr>\n",
       "    <tr>\n",
       "      <th>2</th>\n",
       "      <td>Electronics</td>\n",
       "      <td>458.79</td>\n",
       "    </tr>\n",
       "  </tbody>\n",
       "</table>\n",
       "</div>"
      ],
      "text/plain": [
       "  Product Category  Total_Amount\n",
       "0           Beauty        467.48\n",
       "1         Clothing        443.25\n",
       "2      Electronics        458.79"
      ]
     },
     "execution_count": 1311,
     "metadata": {},
     "output_type": "execute_result"
    }
   ],
   "source": [
    "# talvez a coluna Average Order value seja media por categoria?\n",
    "\n",
    "grupo_catg = df_vendas.groupby('Product Category').agg(\n",
    "    Total_Amount=pd.NamedAgg(column='Total Amount', aggfunc='mean')\n",
    ").reset_index().round(2)\n",
    "grupo_catg"
   ]
  },
  {
   "cell_type": "code",
   "execution_count": 1313,
   "id": "c11933c9-9db2-432b-aae6-3e4f9bf8c2eb",
   "metadata": {},
   "outputs": [
    {
     "data": {
      "text/html": [
       "<div>\n",
       "<style scoped>\n",
       "    .dataframe tbody tr th:only-of-type {\n",
       "        vertical-align: middle;\n",
       "    }\n",
       "\n",
       "    .dataframe tbody tr th {\n",
       "        vertical-align: top;\n",
       "    }\n",
       "\n",
       "    .dataframe thead th {\n",
       "        text-align: right;\n",
       "    }\n",
       "</style>\n",
       "<table border=\"1\" class=\"dataframe\">\n",
       "  <thead>\n",
       "    <tr style=\"text-align: right;\">\n",
       "      <th></th>\n",
       "      <th>Age Group</th>\n",
       "      <th>Total_Amount</th>\n",
       "    </tr>\n",
       "  </thead>\n",
       "  <tbody>\n",
       "    <tr>\n",
       "      <th>0</th>\n",
       "      <td>Adolescent</td>\n",
       "      <td>485.31</td>\n",
       "    </tr>\n",
       "    <tr>\n",
       "      <th>1</th>\n",
       "      <td>Middle Age</td>\n",
       "      <td>455.31</td>\n",
       "    </tr>\n",
       "    <tr>\n",
       "      <th>2</th>\n",
       "      <td>Old</td>\n",
       "      <td>417.55</td>\n",
       "    </tr>\n",
       "  </tbody>\n",
       "</table>\n",
       "</div>"
      ],
      "text/plain": [
       "    Age Group  Total_Amount\n",
       "0  Adolescent        485.31\n",
       "1  Middle Age        455.31\n",
       "2         Old        417.55"
      ]
     },
     "execution_count": 1313,
     "metadata": {},
     "output_type": "execute_result"
    }
   ],
   "source": [
    "# talvez a coluna Average Order value seja media por grupo de idade?\n",
    "\n",
    "grupo_idade = df_vendas.groupby('Age Group').agg(\n",
    "    Total_Amount=pd.NamedAgg(column='Total Amount', aggfunc='mean')\n",
    ").reset_index().round(2)\n",
    "grupo_idade"
   ]
  },
  {
   "cell_type": "code",
   "execution_count": 1315,
   "id": "7ad131c3-d044-4fcb-af32-2bf310b20b53",
   "metadata": {},
   "outputs": [
    {
     "data": {
      "text/html": [
       "<div>\n",
       "<style scoped>\n",
       "    .dataframe tbody tr th:only-of-type {\n",
       "        vertical-align: middle;\n",
       "    }\n",
       "\n",
       "    .dataframe tbody tr th {\n",
       "        vertical-align: top;\n",
       "    }\n",
       "\n",
       "    .dataframe thead th {\n",
       "        text-align: right;\n",
       "    }\n",
       "</style>\n",
       "<table border=\"1\" class=\"dataframe\">\n",
       "  <thead>\n",
       "    <tr style=\"text-align: right;\">\n",
       "      <th></th>\n",
       "      <th>Transaction ID</th>\n",
       "      <th>Date</th>\n",
       "      <th>Gender</th>\n",
       "      <th>Age</th>\n",
       "      <th>Age Group</th>\n",
       "      <th>Product Category</th>\n",
       "      <th>Quantity</th>\n",
       "      <th>Price per Unit</th>\n",
       "      <th>Total Amount</th>\n",
       "    </tr>\n",
       "  </thead>\n",
       "  <tbody>\n",
       "    <tr>\n",
       "      <th>0</th>\n",
       "      <td>1</td>\n",
       "      <td>11/24/2023</td>\n",
       "      <td>Male</td>\n",
       "      <td>34</td>\n",
       "      <td>Middle Age</td>\n",
       "      <td>Beauty</td>\n",
       "      <td>3</td>\n",
       "      <td>50</td>\n",
       "      <td>150</td>\n",
       "    </tr>\n",
       "    <tr>\n",
       "      <th>1</th>\n",
       "      <td>2</td>\n",
       "      <td>2/27/2023</td>\n",
       "      <td>Female</td>\n",
       "      <td>26</td>\n",
       "      <td>Adolescent</td>\n",
       "      <td>Clothing</td>\n",
       "      <td>2</td>\n",
       "      <td>500</td>\n",
       "      <td>1000</td>\n",
       "    </tr>\n",
       "  </tbody>\n",
       "</table>\n",
       "</div>"
      ],
      "text/plain": [
       "   Transaction ID        Date  Gender  Age   Age Group Product Category  \\\n",
       "0               1  11/24/2023    Male   34  Middle Age           Beauty   \n",
       "1               2   2/27/2023  Female   26  Adolescent         Clothing   \n",
       "\n",
       "   Quantity  Price per Unit  Total Amount  \n",
       "0         3              50           150  \n",
       "1         2             500          1000  "
      ]
     },
     "execution_count": 1315,
     "metadata": {},
     "output_type": "execute_result"
    }
   ],
   "source": [
    "# Devido a falta de informações e relevancia da coluna Average Order value ela sera descontinuada na analise\n",
    "\n",
    "df_vendas = df_vendas.drop(columns = ['Average Order value'])\n",
    "df_vendas.head(2)"
   ]
  },
  {
   "cell_type": "code",
   "execution_count": 1317,
   "id": "24e61430-15b5-43d8-ba41-9fca72f935bf",
   "metadata": {},
   "outputs": [
    {
     "data": {
      "text/html": [
       "<div>\n",
       "<style scoped>\n",
       "    .dataframe tbody tr th:only-of-type {\n",
       "        vertical-align: middle;\n",
       "    }\n",
       "\n",
       "    .dataframe tbody tr th {\n",
       "        vertical-align: top;\n",
       "    }\n",
       "\n",
       "    .dataframe thead th {\n",
       "        text-align: right;\n",
       "    }\n",
       "</style>\n",
       "<table border=\"1\" class=\"dataframe\">\n",
       "  <thead>\n",
       "    <tr style=\"text-align: right;\">\n",
       "      <th></th>\n",
       "      <th>Product Category</th>\n",
       "      <th>lucro</th>\n",
       "    </tr>\n",
       "  </thead>\n",
       "  <tbody>\n",
       "    <tr>\n",
       "      <th>0</th>\n",
       "      <td>Beauty</td>\n",
       "      <td>143515</td>\n",
       "    </tr>\n",
       "    <tr>\n",
       "      <th>1</th>\n",
       "      <td>Clothing</td>\n",
       "      <td>155580</td>\n",
       "    </tr>\n",
       "    <tr>\n",
       "      <th>2</th>\n",
       "      <td>Electronics</td>\n",
       "      <td>156905</td>\n",
       "    </tr>\n",
       "  </tbody>\n",
       "</table>\n",
       "</div>"
      ],
      "text/plain": [
       "  Product Category   lucro\n",
       "0           Beauty  143515\n",
       "1         Clothing  155580\n",
       "2      Electronics  156905"
      ]
     },
     "execution_count": 1317,
     "metadata": {},
     "output_type": "execute_result"
    }
   ],
   "source": [
    "# qual a categoria de produtos com mais lucro?\n",
    "# pouca diferença entre as categorias\n",
    "\n",
    "melhor_categ = df_vendas.groupby('Product Category').agg(\n",
    "    lucro = pd.NamedAgg(column='Total Amount', aggfunc='sum')\n",
    ").reset_index()\n",
    "\n",
    "melhor_categ"
   ]
  },
  {
   "cell_type": "code",
   "execution_count": 1319,
   "id": "88a3411e-992b-4e11-88c0-0a31fb589801",
   "metadata": {},
   "outputs": [
    {
     "data": {
      "text/html": [
       "<div>\n",
       "<style scoped>\n",
       "    .dataframe tbody tr th:only-of-type {\n",
       "        vertical-align: middle;\n",
       "    }\n",
       "\n",
       "    .dataframe tbody tr th {\n",
       "        vertical-align: top;\n",
       "    }\n",
       "\n",
       "    .dataframe thead th {\n",
       "        text-align: right;\n",
       "    }\n",
       "</style>\n",
       "<table border=\"1\" class=\"dataframe\">\n",
       "  <thead>\n",
       "    <tr style=\"text-align: right;\">\n",
       "      <th></th>\n",
       "      <th>Age Group</th>\n",
       "      <th>vendas</th>\n",
       "      <th>porcem</th>\n",
       "    </tr>\n",
       "  </thead>\n",
       "  <tbody>\n",
       "    <tr>\n",
       "      <th>0</th>\n",
       "      <td>Adolescent</td>\n",
       "      <td>143165</td>\n",
       "      <td>31.40</td>\n",
       "    </tr>\n",
       "    <tr>\n",
       "      <th>1</th>\n",
       "      <td>Middle Age</td>\n",
       "      <td>222645</td>\n",
       "      <td>48.83</td>\n",
       "    </tr>\n",
       "    <tr>\n",
       "      <th>2</th>\n",
       "      <td>Old</td>\n",
       "      <td>90190</td>\n",
       "      <td>19.78</td>\n",
       "    </tr>\n",
       "  </tbody>\n",
       "</table>\n",
       "</div>"
      ],
      "text/plain": [
       "    Age Group  vendas  porcem\n",
       "0  Adolescent  143165   31.40\n",
       "1  Middle Age  222645   48.83\n",
       "2         Old   90190   19.78"
      ]
     },
     "execution_count": 1319,
     "metadata": {},
     "output_type": "execute_result"
    }
   ],
   "source": [
    "# qual o grupo de idades que mais gastam?\n",
    "\n",
    "# criando total_vendas\n",
    "total_vendas = df_vendas['Total Amount'].sum()\n",
    "\n",
    "melhor_group_age = df_vendas.groupby('Age Group').agg(\n",
    "    vendas = pd.NamedAgg(column='Total Amount',aggfunc='sum')\n",
    ").reset_index()\n",
    "\n",
    "# criando coluna porcem que guarda a porcentagem das vendas em relação ao valor total\n",
    "melhor_group_age['porcem'] = (melhor_group_age['vendas'] / total_vendas) *100 \n",
    "\n",
    "melhor_group_age.round(2)"
   ]
  },
  {
   "cell_type": "markdown",
   "id": "3e2d8012-0e3a-417d-8b4c-2d6be6246800",
   "metadata": {},
   "source": [
    "O grupo de pessoas que mais consome nossos produtos são Middle Age"
   ]
  },
  {
   "cell_type": "code",
   "execution_count": 1322,
   "id": "5cc6f42f-3338-4e24-95c9-34ba3bc7644d",
   "metadata": {},
   "outputs": [
    {
     "data": {
      "image/png": "[encoded data removed]",
      "text/plain": [
       "<Figure size 1200x600 with 1 Axes>"
      ]
     },
     "metadata": {},
     "output_type": "display_data"
    }
   ],
   "source": [
    "# qual a idade que mais gastam?\n",
    "\n",
    "melhor_age = df_vendas.groupby('Age').agg(\n",
    "    vendas = pd.NamedAgg(column='Total Amount',aggfunc='sum')\n",
    ").reset_index()\n",
    "\n",
    "# criando grafico de lihas para melhor visualização\n",
    "plt.figure(figsize=(12,6))\n",
    "sns.barplot(x='Age', y='vendas', data=melhor_age, \n",
    "            order=melhor_age.sort_values('vendas', ascending=False)['Age'])\n",
    "\n",
    "plt.title('valor gasto por idade')\n",
    "plt.xlabel('idades')\n",
    "plt.ylabel('vendas')\n",
    "\n",
    "plt.show()"
   ]
  },
  {
   "cell_type": "code",
   "execution_count": 1324,
   "id": "96556870-aa6a-4c6c-ba2d-1601a33e3994",
   "metadata": {},
   "outputs": [
    {
     "data": {
      "text/plain": [
       "<Axes: xlabel='Product Category', ylabel='Total Amount'>"
      ]
     },
     "execution_count": 1324,
     "metadata": {},
     "output_type": "execute_result"
    },
    {
     "data": {
      "image/png": "[encoded data removed]",
      "text/plain": [
       "<Figure size 1000x600 with 1 Axes>"
      ]
     },
     "metadata": {},
     "output_type": "display_data"
    }
   ],
   "source": [
    "# procurando outliers\n",
    "\n",
    "plt.figure(figsize=(10, 6))\n",
    "sns.boxplot(x='Product Category', y='Total Amount', data=df_vendas)"
   ]
  },
  {
   "cell_type": "code",
   "execution_count": 1326,
   "id": "2d4b033c-58a7-43a0-8fb1-6007e48dee0e",
   "metadata": {},
   "outputs": [
    {
     "name": "stdout",
     "output_type": "stream",
     "text": [
      "Outliers na categoria Clothing:\n"
     ]
    },
    {
     "data": {
      "text/html": [
       "<div>\n",
       "<style scoped>\n",
       "    .dataframe tbody tr th:only-of-type {\n",
       "        vertical-align: middle;\n",
       "    }\n",
       "\n",
       "    .dataframe tbody tr th {\n",
       "        vertical-align: top;\n",
       "    }\n",
       "\n",
       "    .dataframe thead th {\n",
       "        text-align: right;\n",
       "    }\n",
       "</style>\n",
       "<table border=\"1\" class=\"dataframe\">\n",
       "  <thead>\n",
       "    <tr style=\"text-align: right;\">\n",
       "      <th></th>\n",
       "      <th>Transaction ID</th>\n",
       "      <th>Date</th>\n",
       "      <th>Gender</th>\n",
       "      <th>Age</th>\n",
       "      <th>Age Group</th>\n",
       "      <th>Product Category</th>\n",
       "      <th>Quantity</th>\n",
       "      <th>Price per Unit</th>\n",
       "      <th>Total Amount</th>\n",
       "    </tr>\n",
       "  </thead>\n",
       "  <tbody>\n",
       "    <tr>\n",
       "      <th>15</th>\n",
       "      <td>16</td>\n",
       "      <td>2/17/2023</td>\n",
       "      <td>Male</td>\n",
       "      <td>19</td>\n",
       "      <td>Adolescent</td>\n",
       "      <td>Clothing</td>\n",
       "      <td>3</td>\n",
       "      <td>500</td>\n",
       "      <td>1500</td>\n",
       "    </tr>\n",
       "    <tr>\n",
       "      <th>77</th>\n",
       "      <td>78</td>\n",
       "      <td>7/1/2023</td>\n",
       "      <td>Female</td>\n",
       "      <td>47</td>\n",
       "      <td>Middle Age</td>\n",
       "      <td>Clothing</td>\n",
       "      <td>3</td>\n",
       "      <td>500</td>\n",
       "      <td>1500</td>\n",
       "    </tr>\n",
       "    <tr>\n",
       "      <th>111</th>\n",
       "      <td>112</td>\n",
       "      <td>12/2/2023</td>\n",
       "      <td>Male</td>\n",
       "      <td>37</td>\n",
       "      <td>Middle Age</td>\n",
       "      <td>Clothing</td>\n",
       "      <td>3</td>\n",
       "      <td>500</td>\n",
       "      <td>1500</td>\n",
       "    </tr>\n",
       "    <tr>\n",
       "      <th>114</th>\n",
       "      <td>115</td>\n",
       "      <td>11/26/2023</td>\n",
       "      <td>Male</td>\n",
       "      <td>51</td>\n",
       "      <td>Middle Age</td>\n",
       "      <td>Clothing</td>\n",
       "      <td>3</td>\n",
       "      <td>500</td>\n",
       "      <td>1500</td>\n",
       "    </tr>\n",
       "    <tr>\n",
       "      <th>123</th>\n",
       "      <td>124</td>\n",
       "      <td>10/27/2023</td>\n",
       "      <td>Male</td>\n",
       "      <td>33</td>\n",
       "      <td>Middle Age</td>\n",
       "      <td>Clothing</td>\n",
       "      <td>4</td>\n",
       "      <td>500</td>\n",
       "      <td>2000</td>\n",
       "    </tr>\n",
       "  </tbody>\n",
       "</table>\n",
       "</div>"
      ],
      "text/plain": [
       "     Transaction ID        Date  Gender  Age   Age Group Product Category  \\\n",
       "15               16   2/17/2023    Male   19  Adolescent         Clothing   \n",
       "77               78    7/1/2023  Female   47  Middle Age         Clothing   \n",
       "111             112   12/2/2023    Male   37  Middle Age         Clothing   \n",
       "114             115  11/26/2023    Male   51  Middle Age         Clothing   \n",
       "123             124  10/27/2023    Male   33  Middle Age         Clothing   \n",
       "\n",
       "     Quantity  Price per Unit  Total Amount  \n",
       "15          3             500          1500  \n",
       "77          3             500          1500  \n",
       "111         3             500          1500  \n",
       "114         3             500          1500  \n",
       "123         4             500          2000  "
      ]
     },
     "execution_count": 1326,
     "metadata": {},
     "output_type": "execute_result"
    }
   ],
   "source": [
    "# Filtrando o DataFrame para a categoria 'Clothing'\n",
    "df_clothing = df_vendas[df_vendas['Product Category'] == 'Clothing']\n",
    "\n",
    "# Calculando os quartis e o IQR para 'Total Amount' apenas para Clothing\n",
    "Q1_clothing = df_clothing['Total Amount'].quantile(0.25)\n",
    "Q3_clothing = df_clothing['Total Amount'].quantile(0.75)\n",
    "IQR_clothing = Q3_clothing - Q1_clothing\n",
    "\n",
    "# Definindo os limites para outliers na categoria Clothing\n",
    "limite_inferior_clothing = Q1_clothing - 1.5 * IQR_clothing\n",
    "limite_superior_clothing = Q3_clothing + 1.5 * IQR_clothing\n",
    "\n",
    "# Filtrando os outliers para a categoria Clothing\n",
    "outliers_clothing = df_clothing[(df_clothing['Total Amount'] < limite_inferior_clothing) | \n",
    "                                (df_clothing['Total Amount'] > limite_superior_clothing)]\n",
    "print(\"Outliers na categoria Clothing:\")\n",
    "outliers_clothing.head()"
   ]
  },
  {
   "cell_type": "code",
   "execution_count": 1328,
   "id": "b767408c-f9a5-4ee8-973a-0c4be28aca2c",
   "metadata": {},
   "outputs": [],
   "source": [
    "# Obter os índices dos outliers na categoria 'Clothing'\n",
    "outliers_indices_clothing = outliers_clothing.index\n",
    "\n",
    "# Remover os outliers do DataFrame original\n",
    "df_vendas = df_vendas.drop(index=outliers_indices_clothing)"
   ]
  },
  {
   "cell_type": "code",
   "execution_count": null,
   "id": "5911d065-ad53-496f-b6e7-819bd09fc3ae",
   "metadata": {},
   "outputs": [],
   "source": []
  },
  {
   "cell_type": "code",
   "execution_count": 1331,
   "id": "13668a20-264e-4ce3-b7ed-6ea750039dd7",
   "metadata": {},
   "outputs": [
    {
     "data": {
      "text/html": [
       "<div>\n",
       "<style scoped>\n",
       "    .dataframe tbody tr th:only-of-type {\n",
       "        vertical-align: middle;\n",
       "    }\n",
       "\n",
       "    .dataframe tbody tr th {\n",
       "        vertical-align: top;\n",
       "    }\n",
       "\n",
       "    .dataframe thead th {\n",
       "        text-align: right;\n",
       "    }\n",
       "</style>\n",
       "<table border=\"1\" class=\"dataframe\">\n",
       "  <thead>\n",
       "    <tr style=\"text-align: right;\">\n",
       "      <th></th>\n",
       "      <th>Total_Amount</th>\n",
       "    </tr>\n",
       "    <tr>\n",
       "      <th>Date</th>\n",
       "      <th></th>\n",
       "    </tr>\n",
       "  </thead>\n",
       "  <tbody>\n",
       "    <tr>\n",
       "      <th>2023-01-01</th>\n",
       "      <td>3600</td>\n",
       "    </tr>\n",
       "    <tr>\n",
       "      <th>2023-01-02</th>\n",
       "      <td>265</td>\n",
       "    </tr>\n",
       "    <tr>\n",
       "      <th>2023-01-03</th>\n",
       "      <td>600</td>\n",
       "    </tr>\n",
       "    <tr>\n",
       "      <th>2023-01-04</th>\n",
       "      <td>1240</td>\n",
       "    </tr>\n",
       "    <tr>\n",
       "      <th>2023-01-05</th>\n",
       "      <td>1100</td>\n",
       "    </tr>\n",
       "  </tbody>\n",
       "</table>\n",
       "</div>"
      ],
      "text/plain": [
       "            Total_Amount\n",
       "Date                    \n",
       "2023-01-01          3600\n",
       "2023-01-02           265\n",
       "2023-01-03           600\n",
       "2023-01-04          1240\n",
       "2023-01-05          1100"
      ]
     },
     "execution_count": 1331,
     "metadata": {},
     "output_type": "execute_result"
    }
   ],
   "source": [
    "# Garantir que a coluna 'Date' seja do tipo datetime\n",
    "df_vendas['Date'] = pd.to_datetime(df_vendas['Date'])\n",
    "\n",
    "# Selecionar apenas os dados de 2023\n",
    "df_vendas = df_vendas[df_vendas['Date'].dt.year == 2023]\n",
    "\n",
    "# Agrupar por dia (mantendo Date como datetime)\n",
    "grupo_semana = df_vendas.groupby('Date').agg(\n",
    "    Total_Amount=pd.NamedAgg(column='Total Amount', aggfunc='sum')\n",
    ")\n",
    "grupo_semana = grupo_semana.sort_index()\n",
    "grupo_semana.head()"
   ]
  },
  {
   "cell_type": "markdown",
   "id": "2e0b0627-9ee8-4416-a7cf-4e5a2bc87f41",
   "metadata": {},
   "source": [
    "## Modelo ARIMA"
   ]
  },
  {
   "cell_type": "markdown",
   "id": "758e6375-1212-4e55-bfbb-82e58cb8741f",
   "metadata": {},
   "source": [
    "### Integracao I ----- (d)"
   ]
  },
  {
   "cell_type": "markdown",
   "id": "d5dd4a26-18a2-4b3b-9a58-6e07109cff91",
   "metadata": {},
   "source": [
    " -- Tornando a base estacionaria"
   ]
  },
  {
   "cell_type": "code",
   "execution_count": 1336,
   "id": "d22f93ec-1941-46b2-99e7-1bc937d2d09c",
   "metadata": {},
   "outputs": [
    {
     "name": "stdout",
     "output_type": "stream",
     "text": [
      "Estatística ADF: -8.021\n",
      "p-value: 2.077e-12\n"
     ]
    }
   ],
   "source": [
    "# o index 0 contem um nan apos a alteração\n",
    "base_adf = adfuller(grupo_semana['Total_Amount'].diff().dropna())\n",
    "\n",
    "    # valor da estatistica\n",
    "\n",
    "print('Estatística ADF: {:.4}'.format(base_adf[0]))\n",
    "# p value\n",
    "\n",
    "print('p-value: {:.4}'.format(base_adf[1]))\n",
    "# grafico\n"
   ]
  },
  {
   "cell_type": "code",
   "execution_count": 1338,
   "id": "9a289842-972a-41d7-9747-806108e78791",
   "metadata": {},
   "outputs": [
    {
     "data": {
      "text/plain": [
       "<Axes: xlabel='Date'>"
      ]
     },
     "execution_count": 1338,
     "metadata": {},
     "output_type": "execute_result"
    },
    {
     "data": {
      "image/png": "[encoded data removed]",
      "text/plain": [
       "<Figure size 640x480 with 1 Axes>"
      ]
     },
     "metadata": {},
     "output_type": "display_data"
    }
   ],
   "source": [
    "grupo_semana.diff().plot()"
   ]
  },
  {
   "cell_type": "markdown",
   "id": "1a050a81-eefa-4987-995b-e8cbad1e6986",
   "metadata": {},
   "source": [
    "### Modelo AR - PACF ----- (p)"
   ]
  },
  {
   "cell_type": "code",
   "execution_count": null,
   "id": "16476459-7cca-4648-9272-6269e0461494",
   "metadata": {},
   "outputs": [],
   "source": []
  },
  {
   "cell_type": "code",
   "execution_count": 1342,
   "id": "3eb320dd-5b44-442c-b9b7-a9c83393d24c",
   "metadata": {},
   "outputs": [
    {
     "data": {
      "image/png": "[encoded data removed]",
      "text/plain": [
       "<Figure size 1200x800 with 1 Axes>"
      ]
     },
     "metadata": {},
     "output_type": "display_data"
    }
   ],
   "source": [
    "# criando grafico de PACF\n",
    "\n",
    "fig = plt.figure(figsize=(12,8))\n",
    "ax1 = fig.add_subplot(211)\n",
    "fig = plot_pacf(grupo_semana['Total_Amount'].diff().dropna(),lags=15,ax=ax1)\n"
   ]
  },
  {
   "cell_type": "markdown",
   "id": "e5dc48bf-a9f2-4065-acc5-3ed7e31f7650",
   "metadata": {},
   "source": [
    "*Para o valor de (p) vou considerar só ate 3*"
   ]
  },
  {
   "cell_type": "markdown",
   "id": "02b7808b-aae0-4b61-897c-d152f480cfb1",
   "metadata": {},
   "source": [
    "### Modelo MA - ACF ----- (q)"
   ]
  },
  {
   "cell_type": "code",
   "execution_count": 1346,
   "id": "f221db37-ca6d-4925-9606-261f1ed421dd",
   "metadata": {},
   "outputs": [
    {
     "data": {
      "image/png": "[encoded data removed]",
      "text/plain": [
       "<Figure size 1200x800 with 1 Axes>"
      ]
     },
     "metadata": {},
     "output_type": "display_data"
    }
   ],
   "source": [
    "#criando grafico de ACF\n",
    "\n",
    "fig = plt.figure(figsize=(12,8))\n",
    "ax1 = fig.add_subplot(211)\n",
    "fig = plot_acf(grupo_semana['Total_Amount'].diff().dropna(),lags=15,ax=ax1)"
   ]
  },
  {
   "cell_type": "markdown",
   "id": "881d60da-3fbd-4ab3-aaaf-d0e0bec000d4",
   "metadata": {},
   "source": [
    "### Treinar modelo ARIMA (p ,d, q)\n",
    "- Vamos avaliar um ARIMA (3, 1, 1)"
   ]
  },
  {
   "cell_type": "markdown",
   "id": "2773c922-253f-4270-a328-abe5d26e6836",
   "metadata": {},
   "source": [
    "- Separando treino e teste"
   ]
  },
  {
   "cell_type": "code",
   "execution_count": null,
   "id": "bdfe28d8-a851-404d-a3b4-a14958ca484e",
   "metadata": {},
   "outputs": [],
   "source": []
  },
  {
   "cell_type": "code",
   "execution_count": 1355,
   "id": "61bb5946-c6b7-4abb-871a-c004d42df3db",
   "metadata": {},
   "outputs": [],
   "source": [
    "test_size = int(0.2 * len(grupo_semana))  # 20% dos dados para teste\n",
    "\n",
    "trein = grupo_semana[:-test_size]  # 80% para treino\n",
    "\n",
    "test = grupo_semana[-test_size:] # 20% para teste"
   ]
  },
  {
   "cell_type": "code",
   "execution_count": 1357,
   "id": "ba3ddaef-72be-4f2b-ba9c-659bf659aa2d",
   "metadata": {},
   "outputs": [
    {
     "data": {
      "text/plain": [
       "(68, 1)"
      ]
     },
     "execution_count": 1357,
     "metadata": {},
     "output_type": "execute_result"
    }
   ],
   "source": [
    "test.shape"
   ]
  },
  {
   "cell_type": "code",
   "execution_count": 1359,
   "id": "6ed1884a-a279-4d08-a8d1-7d0ae6dc53dd",
   "metadata": {},
   "outputs": [],
   "source": [
    "# Modelo arima\n",
    "\n",
    "modelo_AR = ARIMA(grupo_semana['Total_Amount'].values, order=(3, 1, 1), trend = 'n').fit()"
   ]
  },
  {
   "cell_type": "code",
   "execution_count": 1361,
   "id": "de2cb278-885f-4322-bc26-a5f71d9f0789",
   "metadata": {},
   "outputs": [
    {
     "data": {
      "text/html": [
       "<table class=\"simpletable\">\n",
       "<caption>SARIMAX Results</caption>\n",
       "<tr>\n",
       "  <th>Dep. Variable:</th>           <td>y</td>        <th>  No. Observations:  </th>    <td>344</td>   \n",
       "</tr>\n",
       "<tr>\n",
       "  <th>Model:</th>            <td>ARIMA(3, 1, 1)</td>  <th>  Log Likelihood     </th> <td>-2898.415</td>\n",
       "</tr>\n",
       "<tr>\n",
       "  <th>Date:</th>            <td>Wed, 26 Mar 2025</td> <th>  AIC                </th> <td>5806.830</td> \n",
       "</tr>\n",
       "<tr>\n",
       "  <th>Time:</th>                <td>11:54:32</td>     <th>  BIC                </th> <td>5826.018</td> \n",
       "</tr>\n",
       "<tr>\n",
       "  <th>Sample:</th>                  <td>0</td>        <th>  HQIC               </th> <td>5814.473</td> \n",
       "</tr>\n",
       "<tr>\n",
       "  <th></th>                      <td> - 344</td>      <th>                     </th>     <td> </td>    \n",
       "</tr>\n",
       "<tr>\n",
       "  <th>Covariance Type:</th>        <td>opg</td>       <th>                     </th>     <td> </td>    \n",
       "</tr>\n",
       "</table>\n",
       "<table class=\"simpletable\">\n",
       "<tr>\n",
       "     <td></td>       <th>coef</th>     <th>std err</th>      <th>z</th>      <th>P>|z|</th>  <th>[0.025</th>    <th>0.975]</th>  \n",
       "</tr>\n",
       "<tr>\n",
       "  <th>ar.L1</th>  <td>    0.0239</td> <td>    0.054</td> <td>    0.445</td> <td> 0.656</td> <td>   -0.081</td> <td>    0.129</td>\n",
       "</tr>\n",
       "<tr>\n",
       "  <th>ar.L2</th>  <td>   -0.0375</td> <td>    0.060</td> <td>   -0.627</td> <td> 0.531</td> <td>   -0.155</td> <td>    0.080</td>\n",
       "</tr>\n",
       "<tr>\n",
       "  <th>ar.L3</th>  <td>    0.0460</td> <td>    0.071</td> <td>    0.646</td> <td> 0.518</td> <td>   -0.093</td> <td>    0.185</td>\n",
       "</tr>\n",
       "<tr>\n",
       "  <th>ma.L1</th>  <td>   -1.0000</td> <td>    0.035</td> <td>  -28.551</td> <td> 0.000</td> <td>   -1.069</td> <td>   -0.931</td>\n",
       "</tr>\n",
       "<tr>\n",
       "  <th>sigma2</th> <td> 1.264e+06</td> <td> 2.77e-08</td> <td> 4.56e+13</td> <td> 0.000</td> <td> 1.26e+06</td> <td> 1.26e+06</td>\n",
       "</tr>\n",
       "</table>\n",
       "<table class=\"simpletable\">\n",
       "<tr>\n",
       "  <th>Ljung-Box (L1) (Q):</th>     <td>0.03</td> <th>  Jarque-Bera (JB):  </th> <td>1318.21</td>\n",
       "</tr>\n",
       "<tr>\n",
       "  <th>Prob(Q):</th>                <td>0.87</td> <th>  Prob(JB):          </th>  <td>0.00</td>  \n",
       "</tr>\n",
       "<tr>\n",
       "  <th>Heteroskedasticity (H):</th> <td>0.76</td> <th>  Skew:              </th>  <td>2.22</td>  \n",
       "</tr>\n",
       "<tr>\n",
       "  <th>Prob(H) (two-sided):</th>    <td>0.15</td> <th>  Kurtosis:          </th>  <td>11.52</td> \n",
       "</tr>\n",
       "</table><br/><br/>Warnings:<br/>[1] Covariance matrix calculated using the outer product of gradients (complex-step).<br/>[2] Covariance matrix is singular or near-singular, with condition number 9.23e+28. Standard errors may be unstable."
      ],
      "text/latex": [
       "\\begin{center}\n",
       "\\begin{tabular}{lclc}\n",
       "\\toprule\n",
       "\\textbf{Dep. Variable:}          &        y         & \\textbf{  No. Observations:  } &    344      \\\\\n",
       "\\textbf{Model:}                  &  ARIMA(3, 1, 1)  & \\textbf{  Log Likelihood     } & -2898.415   \\\\\n",
       "\\textbf{Date:}                   & Wed, 26 Mar 2025 & \\textbf{  AIC                } &  5806.830   \\\\\n",
       "\\textbf{Time:}                   &     11:54:32     & \\textbf{  BIC                } &  5826.018   \\\\\n",
       "\\textbf{Sample:}                 &        0         & \\textbf{  HQIC               } &  5814.473   \\\\\n",
       "\\textbf{}                        &       - 344      & \\textbf{                     } &             \\\\\n",
       "\\textbf{Covariance Type:}        &       opg        & \\textbf{                     } &             \\\\\n",
       "\\bottomrule\n",
       "\\end{tabular}\n",
       "\\begin{tabular}{lcccccc}\n",
       "                & \\textbf{coef} & \\textbf{std err} & \\textbf{z} & \\textbf{P$> |$z$|$} & \\textbf{[0.025} & \\textbf{0.975]}  \\\\\n",
       "\\midrule\n",
       "\\textbf{ar.L1}  &       0.0239  &        0.054     &     0.445  &         0.656        &       -0.081    &        0.129     \\\\\n",
       "\\textbf{ar.L2}  &      -0.0375  &        0.060     &    -0.627  &         0.531        &       -0.155    &        0.080     \\\\\n",
       "\\textbf{ar.L3}  &       0.0460  &        0.071     &     0.646  &         0.518        &       -0.093    &        0.185     \\\\\n",
       "\\textbf{ma.L1}  &      -1.0000  &        0.035     &   -28.551  &         0.000        &       -1.069    &       -0.931     \\\\\n",
       "\\textbf{sigma2} &    1.264e+06  &     2.77e-08     &  4.56e+13  &         0.000        &     1.26e+06    &     1.26e+06     \\\\\n",
       "\\bottomrule\n",
       "\\end{tabular}\n",
       "\\begin{tabular}{lclc}\n",
       "\\textbf{Ljung-Box (L1) (Q):}     & 0.03 & \\textbf{  Jarque-Bera (JB):  } & 1318.21  \\\\\n",
       "\\textbf{Prob(Q):}                & 0.87 & \\textbf{  Prob(JB):          } &   0.00   \\\\\n",
       "\\textbf{Heteroskedasticity (H):} & 0.76 & \\textbf{  Skew:              } &   2.22   \\\\\n",
       "\\textbf{Prob(H) (two-sided):}    & 0.15 & \\textbf{  Kurtosis:          } &  11.52   \\\\\n",
       "\\bottomrule\n",
       "\\end{tabular}\n",
       "%\\caption{SARIMAX Results}\n",
       "\\end{center}\n",
       "\n",
       "Warnings: \\newline\n",
       " [1] Covariance matrix calculated using the outer product of gradients (complex-step). \\newline\n",
       " [2] Covariance matrix is singular or near-singular, with condition number 9.23e+28. Standard errors may be unstable."
      ],
      "text/plain": [
       "<class 'statsmodels.iolib.summary.Summary'>\n",
       "\"\"\"\n",
       "                               SARIMAX Results                                \n",
       "==============================================================================\n",
       "Dep. Variable:                      y   No. Observations:                  344\n",
       "Model:                 ARIMA(3, 1, 1)   Log Likelihood               -2898.415\n",
       "Date:                Wed, 26 Mar 2025   AIC                           5806.830\n",
       "Time:                        11:54:32   BIC                           5826.018\n",
       "Sample:                             0   HQIC                          5814.473\n",
       "                                - 344                                         \n",
       "Covariance Type:                  opg                                         \n",
       "==============================================================================\n",
       "                 coef    std err          z      P>|z|      [0.025      0.975]\n",
       "------------------------------------------------------------------------------\n",
       "ar.L1          0.0239      0.054      0.445      0.656      -0.081       0.129\n",
       "ar.L2         -0.0375      0.060     -0.627      0.531      -0.155       0.080\n",
       "ar.L3          0.0460      0.071      0.646      0.518      -0.093       0.185\n",
       "ma.L1         -1.0000      0.035    -28.551      0.000      -1.069      -0.931\n",
       "sigma2      1.264e+06   2.77e-08   4.56e+13      0.000    1.26e+06    1.26e+06\n",
       "===================================================================================\n",
       "Ljung-Box (L1) (Q):                   0.03   Jarque-Bera (JB):              1318.21\n",
       "Prob(Q):                              0.87   Prob(JB):                         0.00\n",
       "Heteroskedasticity (H):               0.76   Skew:                             2.22\n",
       "Prob(H) (two-sided):                  0.15   Kurtosis:                        11.52\n",
       "===================================================================================\n",
       "\n",
       "Warnings:\n",
       "[1] Covariance matrix calculated using the outer product of gradients (complex-step).\n",
       "[2] Covariance matrix is singular or near-singular, with condition number 9.23e+28. Standard errors may be unstable.\n",
       "\"\"\""
      ]
     },
     "execution_count": 1361,
     "metadata": {},
     "output_type": "execute_result"
    }
   ],
   "source": [
    "modelo_AR.summary()"
   ]
  },
  {
   "cell_type": "code",
   "execution_count": null,
   "id": "111abe66-93e3-4ef3-9368-8e4417e0b307",
   "metadata": {},
   "outputs": [],
   "source": []
  },
  {
   "cell_type": "markdown",
   "id": "a47cae3c-78c8-4394-886c-c66c0f1152fe",
   "metadata": {},
   "source": [
    "Avaliando modelo"
   ]
  },
  {
   "cell_type": "markdown",
   "id": "3147e58a-31d8-4abe-80fe-4d9874952d67",
   "metadata": {},
   "source": [
    "ACF"
   ]
  },
  {
   "cell_type": "code",
   "execution_count": 1366,
   "id": "fc188a01-ecad-4c9f-853b-9658da3553f3",
   "metadata": {},
   "outputs": [
    {
     "data": {
      "image/png": "[encoded data removed]",
      "text/plain": [
       "<Figure size 1200x800 with 1 Axes>"
      ]
     },
     "metadata": {},
     "output_type": "display_data"
    }
   ],
   "source": [
    "# ACF \n",
    "\n",
    "fig = plt.figure(figsize=(12,8))\n",
    "ax1 = fig.add_subplot(211)\n",
    "fig = plot_acf(modelo_AR.resid, lags=15,ax=ax1)"
   ]
  },
  {
   "cell_type": "code",
   "execution_count": 1368,
   "id": "fde20673-b887-45ff-99e9-ce51f8b58de8",
   "metadata": {},
   "outputs": [
    {
     "data": {
      "image/png": "[encoded data removed]",
      "text/plain": [
       "<Figure size 1200x800 with 1 Axes>"
      ]
     },
     "metadata": {},
     "output_type": "display_data"
    }
   ],
   "source": [
    "# ACF \n",
    "\n",
    "\n",
    "fig = plt.figure(figsize=(12,8))\n",
    "ax1 = fig.add_subplot(211)\n",
    "fig = plot_pacf(modelo_AR.resid, lags=15,ax=ax1)"
   ]
  },
  {
   "cell_type": "markdown",
   "id": "80d4cb09-0666-4d1f-bbe6-743820130db4",
   "metadata": {},
   "source": [
    "### Avaliação na amostra de teste "
   ]
  },
  {
   "cell_type": "code",
   "execution_count": 1371,
   "id": "8f458c80-5c63-47a4-ba21-86136e886ec1",
   "metadata": {},
   "outputs": [
    {
     "data": {
      "text/plain": [
       "(            Total_Amount\n",
       " Date                    \n",
       " 2023-10-17           175\n",
       " 2023-10-18          2025\n",
       " 2023-10-19          1860\n",
       " 2023-10-20            50\n",
       " 2023-10-21            50,\n",
       " (276, 1))"
      ]
     },
     "execution_count": 1371,
     "metadata": {},
     "output_type": "execute_result"
    }
   ],
   "source": [
    "trein.tail(), trein.shape"
   ]
  },
  {
   "cell_type": "code",
   "execution_count": 1373,
   "id": "54e47fa7-d850-4311-b239-1d4e80df1c67",
   "metadata": {},
   "outputs": [],
   "source": [
    "\n",
    "predicao_bruta = modelo_AR.predict(start=276, end=343, dynamic=False)"
   ]
  },
  {
   "cell_type": "code",
   "execution_count": 1375,
   "id": "8b5d8719-0fa2-4431-987a-b36e517920e4",
   "metadata": {},
   "outputs": [],
   "source": [
    "\n",
    "ultimo_valor = trein['Total_Amount'].iloc[-1]"
   ]
  },
  {
   "cell_type": "code",
   "execution_count": 1377,
   "id": "59502ca4-955d-425b-863a-b3830be6a991",
   "metadata": {},
   "outputs": [],
   "source": [
    "\n",
    "predicao = np.cumsum(np.append(ultimo_valor, predicao_bruta))"
   ]
  },
  {
   "cell_type": "code",
   "execution_count": 1379,
   "id": "8cce4fa3-7835-4033-8a52-ded1af847e82",
   "metadata": {},
   "outputs": [],
   "source": [
    "\n",
    "predicao = np.delete(predicao, 0)"
   ]
  },
  {
   "cell_type": "code",
   "execution_count": null,
   "id": "add1971b-27a1-4d93-8be3-27008c11254a",
   "metadata": {},
   "outputs": [],
   "source": []
  },
  {
   "cell_type": "markdown",
   "id": "f4dea71d-f7fd-4915-9332-5b3de81e467c",
   "metadata": {},
   "source": [
    "Metricas de avaliação"
   ]
  },
  {
   "cell_type": "code",
   "execution_count": 1387,
   "id": "07641f84-151d-4090-b729-93447b408e9e",
   "metadata": {},
   "outputs": [
    {
     "data": {
      "text/html": [
       "<div>\n",
       "<style scoped>\n",
       "    .dataframe tbody tr th:only-of-type {\n",
       "        vertical-align: middle;\n",
       "    }\n",
       "\n",
       "    .dataframe tbody tr th {\n",
       "        vertical-align: top;\n",
       "    }\n",
       "\n",
       "    .dataframe thead th {\n",
       "        text-align: right;\n",
       "    }\n",
       "</style>\n",
       "<table border=\"1\" class=\"dataframe\">\n",
       "  <thead>\n",
       "    <tr style=\"text-align: right;\">\n",
       "      <th></th>\n",
       "      <th>Total_Amount</th>\n",
       "      <th>predição</th>\n",
       "    </tr>\n",
       "    <tr>\n",
       "      <th>Date</th>\n",
       "      <th></th>\n",
       "      <th></th>\n",
       "    </tr>\n",
       "  </thead>\n",
       "  <tbody>\n",
       "    <tr>\n",
       "      <th>2023-10-22</th>\n",
       "      <td>1950</td>\n",
       "      <td>1241.884535</td>\n",
       "    </tr>\n",
       "    <tr>\n",
       "      <th>2023-10-23</th>\n",
       "      <td>800</td>\n",
       "      <td>2398.592945</td>\n",
       "    </tr>\n",
       "  </tbody>\n",
       "</table>\n",
       "</div>"
      ],
      "text/plain": [
       "            Total_Amount     predição\n",
       "Date                                 \n",
       "2023-10-22          1950  1241.884535\n",
       "2023-10-23           800  2398.592945"
      ]
     },
     "execution_count": 1387,
     "metadata": {},
     "output_type": "execute_result"
    }
   ],
   "source": [
    "test = test.copy()\n",
    "test[\"predição\"] = predicao\n",
    "test.head(2)"
   ]
  },
  {
   "cell_type": "code",
   "execution_count": 1389,
   "id": "d1e150f1-64a6-42ba-9b87-78f5e5dabf24",
   "metadata": {},
   "outputs": [
    {
     "name": "stdout",
     "output_type": "stream",
     "text": [
      "<class 'pandas.core.frame.DataFrame'>\n",
      "DatetimeIndex: 344 entries, 2023-01-01 to 2023-12-31\n",
      "Data columns (total 1 columns):\n",
      " #   Column        Non-Null Count  Dtype\n",
      "---  ------        --------------  -----\n",
      " 0   Total_Amount  344 non-null    int64\n",
      "dtypes: int64(1)\n",
      "memory usage: 5.4 KB\n"
     ]
    }
   ],
   "source": [
    "grupo_semana.info()"
   ]
  },
  {
   "cell_type": "code",
   "execution_count": 1391,
   "id": "4d5a1252-5b8a-4f64-8c49-8147dc67dbb6",
   "metadata": {},
   "outputs": [],
   "source": [
    "dados_reais = trein['Total_Amount'].values"
   ]
  },
  {
   "cell_type": "code",
   "execution_count": 1278,
   "id": "1a95ead4-3a22-47af-8e4c-ae0f4b1ffd44",
   "metadata": {},
   "outputs": [],
   "source": [
    "\n",
    "#rmse = np.sqrt(mean_squared_error(dados_reais, predicao))"
   ]
  },
  {
   "cell_type": "code",
   "execution_count": 1280,
   "id": "902b9b07-faca-4742-b687-d3542059b343",
   "metadata": {},
   "outputs": [],
   "source": [
    "#mape = mean_absolute_percentage_error(dados_reais, predicao)\n",
    "\n"
   ]
  },
  {
   "cell_type": "code",
   "execution_count": 1282,
   "id": "3fa52802-6882-4ccc-b342-e0cd10684a6a",
   "metadata": {},
   "outputs": [
    {
     "ename": "NameError",
     "evalue": "name 'rmse' is not defined",
     "output_type": "error",
     "traceback": [
      "\u001b[1;31m---------------------------------------------------------------------------\u001b[0m",
      "\u001b[1;31mNameError\u001b[0m                                 Traceback (most recent call last)",
      "Cell \u001b[1;32mIn[1282], line 2\u001b[0m\n\u001b[0;32m      1\u001b[0m \u001b[38;5;28mprint\u001b[39m(\u001b[38;5;124mf\u001b[39m\u001b[38;5;124m'''\u001b[39m\n\u001b[1;32m----> 2\u001b[0m \u001b[38;5;124m    RMSE = \u001b[39m\u001b[38;5;132;01m{\u001b[39;00mrmse\u001b[38;5;132;01m}\u001b[39;00m\n\u001b[0;32m      3\u001b[0m \u001b[38;5;124m    MAPE = \u001b[39m\u001b[38;5;132;01m{\u001b[39;00mmape\u001b[38;5;132;01m}\u001b[39;00m\n\u001b[0;32m      4\u001b[0m \u001b[38;5;124m    MAE = \u001b[39m\u001b[38;5;132;01m{\u001b[39;00mmae\u001b[38;5;132;01m}\u001b[39;00m\n\u001b[0;32m      5\u001b[0m \u001b[38;5;124m'''\u001b[39m)\n",
      "\u001b[1;31mNameError\u001b[0m: name 'rmse' is not defined"
     ]
    }
   ],
   "source": [
    "print(f'''\n",
    "    RMSE = {rmse}\n",
    "    MAPE = {mape}\n",
    "    MAE = {mae}\n",
    "''')"
   ]
  },
  {
   "cell_type": "code",
   "execution_count": 1393,
   "id": "3bcad018-2495-498e-9239-fd7878ed3225",
   "metadata": {},
   "outputs": [
    {
     "name": "stdout",
     "output_type": "stream",
     "text": [
      "276 68\n",
      "Erro: Os tamanhos dos dados reais e das predições são diferentes!\n"
     ]
    }
   ],
   "source": [
    "# Verificando o comprimento de dados reais e predições\n",
    "print(len(dados_reais), len(predicao))\n",
    "\n",
    "# Garantir que as predições correspondem ao tamanho dos dados reais\n",
    "if len(dados_reais) == len(predicao):\n",
    "    rmse = np.sqrt(mean_squared_error(dados_reais, predicao))\n",
    "    print(f'RMSE: {rmse}')\n",
    "else:\n",
    "    print(\"Erro: Os tamanhos dos dados reais e das predições são diferentes!\")\n"
   ]
  },
  {
   "cell_type": "code",
   "execution_count": null,
   "id": "ee7aa789-5fa7-4dbd-8b4c-262779570670",
   "metadata": {},
   "outputs": [],
   "source": []
  },
  {
   "cell_type": "code",
   "execution_count": null,
   "id": "59f2e6d7-35ca-49f1-bc4f-f72e683dcd89",
   "metadata": {},
   "outputs": [],
   "source": []
  },
  {
   "cell_type": "code",
   "execution_count": null,
   "id": "5b6dc53e-1284-4572-8e13-eabbb892c982",
   "metadata": {},
   "outputs": [],
   "source": []
  },
  {
   "cell_type": "code",
   "execution_count": null,
   "id": "1d017a58-6941-44a0-a45d-59541c639f4d",
   "metadata": {},
   "outputs": [],
   "source": []
  },
  {
   "cell_type": "code",
   "execution_count": null,
   "id": "cc16b6f4-8a5a-4de3-94cb-a5381559fa40",
   "metadata": {},
   "outputs": [],
   "source": []
  }
 ],
 "metadata": {
  "kernelspec": {
   "display_name": "Python [conda env:base] *",
   "language": "python",
   "name": "conda-base-py"
  },
  "language_info": {
   "codemirror_mode": {
    "name": "ipython",
    "version": 3
   },
   "file_extension": ".py",
   "mimetype": "text/x-python",
   "name": "python",
   "nbconvert_exporter": "python",
   "pygments_lexer": "ipython3",
   "version": "3.12.7"
  }
 },
 "nbformat": 4,
 "nbformat_minor": 5
}
