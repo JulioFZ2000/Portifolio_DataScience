{
 "cells": [
  {
   "cell_type": "markdown",
   "id": "9da65a3a-9da8-4b13-84f2-b7578a749e34",
   "metadata": {},
   "source": [
    "# Projeto Análise de Vendas "
   ]
  },
  {
   "cell_type": "markdown",
   "id": "e1256aa1-6dd2-4a27-ab7d-905cf79237a6",
   "metadata": {},
   "source": [
    "#### Imports e base de dados"
   ]
  },
  {
   "cell_type": "code",
   "execution_count": 748,
   "id": "ccdd0ab5-6727-438a-b9d2-4ee90c7ce4ac",
   "metadata": {},
   "outputs": [],
   "source": [
    "    # imports para analise e visualização\n",
    "import pandas as pd\n",
    "import matplotlib.pyplot as plt\n",
    "import seaborn as sns\n",
    "from statsmodels.tsa.stattools import adfuller\n",
    "import numpy as np\n",
    "\n",
    "    # modelos\n",
    "from statsmodels.tsa.arima.model import ARIMA\n",
    "from statsmodels.tools.eval_measures import rmse\n",
    "from sklearn.metrics import mean_absolute_error, mean_squared_error"
   ]
  },
  {
   "cell_type": "code",
   "execution_count": 750,
   "id": "9074d909-f389-4c52-8525-68877cda962d",
   "metadata": {},
   "outputs": [
    {
     "data": {
      "text/html": [
       "<div>\n",
       "<style scoped>\n",
       "    .dataframe tbody tr th:only-of-type {\n",
       "        vertical-align: middle;\n",
       "    }\n",
       "\n",
       "    .dataframe tbody tr th {\n",
       "        vertical-align: top;\n",
       "    }\n",
       "\n",
       "    .dataframe thead th {\n",
       "        text-align: right;\n",
       "    }\n",
       "</style>\n",
       "<table border=\"1\" class=\"dataframe\">\n",
       "  <thead>\n",
       "    <tr style=\"text-align: right;\">\n",
       "      <th></th>\n",
       "      <th>Transaction ID</th>\n",
       "      <th>Date</th>\n",
       "      <th>Gender</th>\n",
       "      <th>Age</th>\n",
       "      <th>Age Group</th>\n",
       "      <th>Product Category</th>\n",
       "      <th>Quantity</th>\n",
       "      <th>Price per Unit</th>\n",
       "      <th>Total Amount</th>\n",
       "      <th>Unnamed: 9</th>\n",
       "      <th>...</th>\n",
       "      <th>Unnamed: 14</th>\n",
       "      <th>Unnamed: 15</th>\n",
       "      <th>Unnamed: 16</th>\n",
       "      <th>Min_age</th>\n",
       "      <th>Max_age</th>\n",
       "      <th>Avg_age</th>\n",
       "      <th>Total Sales Revenue</th>\n",
       "      <th>Average Order value</th>\n",
       "      <th>Category</th>\n",
       "      <th>Sales</th>\n",
       "    </tr>\n",
       "  </thead>\n",
       "  <tbody>\n",
       "    <tr>\n",
       "      <th>0</th>\n",
       "      <td>1</td>\n",
       "      <td>11/24/2023</td>\n",
       "      <td>Male</td>\n",
       "      <td>34</td>\n",
       "      <td>Middle Age</td>\n",
       "      <td>Beauty</td>\n",
       "      <td>3</td>\n",
       "      <td>50</td>\n",
       "      <td>150</td>\n",
       "      <td>NaN</td>\n",
       "      <td>...</td>\n",
       "      <td>NaN</td>\n",
       "      <td>NaN</td>\n",
       "      <td>NaN</td>\n",
       "      <td>18.0</td>\n",
       "      <td>64.0</td>\n",
       "      <td>41.0</td>\n",
       "      <td>456000.0</td>\n",
       "      <td>456.0</td>\n",
       "      <td>Electronics</td>\n",
       "      <td>156905.0</td>\n",
       "    </tr>\n",
       "    <tr>\n",
       "      <th>1</th>\n",
       "      <td>2</td>\n",
       "      <td>2/27/2023</td>\n",
       "      <td>Female</td>\n",
       "      <td>26</td>\n",
       "      <td>Adolescent</td>\n",
       "      <td>Clothing</td>\n",
       "      <td>2</td>\n",
       "      <td>500</td>\n",
       "      <td>1000</td>\n",
       "      <td>NaN</td>\n",
       "      <td>...</td>\n",
       "      <td>NaN</td>\n",
       "      <td>NaN</td>\n",
       "      <td>NaN</td>\n",
       "      <td>NaN</td>\n",
       "      <td>NaN</td>\n",
       "      <td>NaN</td>\n",
       "      <td>NaN</td>\n",
       "      <td>NaN</td>\n",
       "      <td>Clothing</td>\n",
       "      <td>155580.0</td>\n",
       "    </tr>\n",
       "    <tr>\n",
       "      <th>2</th>\n",
       "      <td>3</td>\n",
       "      <td>1/13/2023</td>\n",
       "      <td>Male</td>\n",
       "      <td>50</td>\n",
       "      <td>Middle Age</td>\n",
       "      <td>Electronics</td>\n",
       "      <td>1</td>\n",
       "      <td>30</td>\n",
       "      <td>30</td>\n",
       "      <td>NaN</td>\n",
       "      <td>...</td>\n",
       "      <td>NaN</td>\n",
       "      <td>NaN</td>\n",
       "      <td>NaN</td>\n",
       "      <td>NaN</td>\n",
       "      <td>NaN</td>\n",
       "      <td>NaN</td>\n",
       "      <td>NaN</td>\n",
       "      <td>NaN</td>\n",
       "      <td>Beauty</td>\n",
       "      <td>143515.0</td>\n",
       "    </tr>\n",
       "  </tbody>\n",
       "</table>\n",
       "<p>3 rows × 24 columns</p>\n",
       "</div>"
      ],
      "text/plain": [
       "   Transaction ID        Date  Gender  Age   Age Group Product Category  \\\n",
       "0               1  11/24/2023    Male   34  Middle Age           Beauty   \n",
       "1               2   2/27/2023  Female   26  Adolescent         Clothing   \n",
       "2               3   1/13/2023    Male   50  Middle Age      Electronics   \n",
       "\n",
       "   Quantity  Price per Unit  Total Amount  Unnamed: 9  ...  Unnamed: 14  \\\n",
       "0         3              50           150         NaN  ...          NaN   \n",
       "1         2             500          1000         NaN  ...          NaN   \n",
       "2         1              30            30         NaN  ...          NaN   \n",
       "\n",
       "   Unnamed: 15  Unnamed: 16  Min_age  Max_age  Avg_age  Total Sales Revenue  \\\n",
       "0          NaN          NaN     18.0     64.0     41.0             456000.0   \n",
       "1          NaN          NaN      NaN      NaN      NaN                  NaN   \n",
       "2          NaN          NaN      NaN      NaN      NaN                  NaN   \n",
       "\n",
       "   Average Order value     Category     Sales  \n",
       "0                456.0  Electronics  156905.0  \n",
       "1                  NaN     Clothing  155580.0  \n",
       "2                  NaN       Beauty  143515.0  \n",
       "\n",
       "[3 rows x 24 columns]"
      ]
     },
     "execution_count": 750,
     "metadata": {},
     "output_type": "execute_result"
    }
   ],
   "source": [
    "url = 'https://raw.githubusercontent.com/Seunfunmee/Retail-Sales-Data-Set/refs/heads/main/Retail%20Sales%20Data%20Set.csv'\n",
    "df = pd.read_csv(url)\n",
    "df.head(3)"
   ]
  },
  {
   "cell_type": "code",
   "execution_count": null,
   "id": "ead1591b-11a3-4051-83b2-b286c25afdd4",
   "metadata": {},
   "outputs": [],
   "source": []
  },
  {
   "cell_type": "markdown",
   "id": "3c32b3ce-686a-4af4-8049-70d69a73192e",
   "metadata": {},
   "source": [
    "## Análise exploratória"
   ]
  },
  {
   "cell_type": "code",
   "execution_count": 754,
   "id": "5051fbb3-6631-4b55-9f9a-dcfadc9941c6",
   "metadata": {},
   "outputs": [
    {
     "data": {
      "text/html": [
       "<div>\n",
       "<style scoped>\n",
       "    .dataframe tbody tr th:only-of-type {\n",
       "        vertical-align: middle;\n",
       "    }\n",
       "\n",
       "    .dataframe tbody tr th {\n",
       "        vertical-align: top;\n",
       "    }\n",
       "\n",
       "    .dataframe thead th {\n",
       "        text-align: right;\n",
       "    }\n",
       "</style>\n",
       "<table border=\"1\" class=\"dataframe\">\n",
       "  <thead>\n",
       "    <tr style=\"text-align: right;\">\n",
       "      <th></th>\n",
       "      <th>Transaction ID</th>\n",
       "      <th>Date</th>\n",
       "      <th>Gender</th>\n",
       "      <th>Age</th>\n",
       "      <th>Age Group</th>\n",
       "      <th>Product Category</th>\n",
       "      <th>Quantity</th>\n",
       "      <th>Price per Unit</th>\n",
       "      <th>Total Amount</th>\n",
       "      <th>Min_age</th>\n",
       "      <th>Max_age</th>\n",
       "      <th>Avg_age</th>\n",
       "      <th>Total Sales Revenue</th>\n",
       "      <th>Average Order value</th>\n",
       "      <th>Category</th>\n",
       "      <th>Sales</th>\n",
       "    </tr>\n",
       "  </thead>\n",
       "  <tbody>\n",
       "    <tr>\n",
       "      <th>0</th>\n",
       "      <td>1</td>\n",
       "      <td>11/24/2023</td>\n",
       "      <td>Male</td>\n",
       "      <td>34</td>\n",
       "      <td>Middle Age</td>\n",
       "      <td>Beauty</td>\n",
       "      <td>3</td>\n",
       "      <td>50</td>\n",
       "      <td>150</td>\n",
       "      <td>18.0</td>\n",
       "      <td>64.0</td>\n",
       "      <td>41.0</td>\n",
       "      <td>456000.0</td>\n",
       "      <td>456.0</td>\n",
       "      <td>Electronics</td>\n",
       "      <td>156905.0</td>\n",
       "    </tr>\n",
       "    <tr>\n",
       "      <th>1</th>\n",
       "      <td>2</td>\n",
       "      <td>2/27/2023</td>\n",
       "      <td>Female</td>\n",
       "      <td>26</td>\n",
       "      <td>Adolescent</td>\n",
       "      <td>Clothing</td>\n",
       "      <td>2</td>\n",
       "      <td>500</td>\n",
       "      <td>1000</td>\n",
       "      <td>NaN</td>\n",
       "      <td>NaN</td>\n",
       "      <td>NaN</td>\n",
       "      <td>NaN</td>\n",
       "      <td>NaN</td>\n",
       "      <td>Clothing</td>\n",
       "      <td>155580.0</td>\n",
       "    </tr>\n",
       "  </tbody>\n",
       "</table>\n",
       "</div>"
      ],
      "text/plain": [
       "   Transaction ID        Date  Gender  Age   Age Group Product Category  \\\n",
       "0               1  11/24/2023    Male   34  Middle Age           Beauty   \n",
       "1               2   2/27/2023  Female   26  Adolescent         Clothing   \n",
       "\n",
       "   Quantity  Price per Unit  Total Amount  Min_age  Max_age  Avg_age  \\\n",
       "0         3              50           150     18.0     64.0     41.0   \n",
       "1         2             500          1000      NaN      NaN      NaN   \n",
       "\n",
       "   Total Sales Revenue  Average Order value     Category     Sales  \n",
       "0             456000.0                456.0  Electronics  156905.0  \n",
       "1                  NaN                  NaN     Clothing  155580.0  "
      ]
     },
     "execution_count": 754,
     "metadata": {},
     "output_type": "execute_result"
    }
   ],
   "source": [
    "# as colunas Unnamed de 9 a 16 são espaços para melhorar a vizualizão quando na planilha, para essa análise elas serão dropadas\n",
    "# drop das colunas não usadas\n",
    "\n",
    "colunas_removidas = ['Unnamed: 9', 'Unnamed: 10', 'Unnamed: 11', 'Unnamed: 12',\n",
    "                    'Unnamed: 13', 'Unnamed: 14', 'Unnamed: 15', 'Unnamed: 16']\n",
    "df = df.drop(columns = colunas_removidas) \n",
    "df.head(2)"
   ]
  },
  {
   "cell_type": "code",
   "execution_count": 756,
   "id": "08a4cd62-3eb9-477b-83f7-ff1b7324e78f",
   "metadata": {},
   "outputs": [
    {
     "name": "stdout",
     "output_type": "stream",
     "text": [
      "<class 'pandas.core.frame.DataFrame'>\n",
      "RangeIndex: 1000 entries, 0 to 999\n",
      "Data columns (total 16 columns):\n",
      " #   Column               Non-Null Count  Dtype  \n",
      "---  ------               --------------  -----  \n",
      " 0   Transaction ID       1000 non-null   int64  \n",
      " 1   Date                 1000 non-null   object \n",
      " 2   Gender               1000 non-null   object \n",
      " 3   Age                  1000 non-null   int64  \n",
      " 4   Age Group            1000 non-null   object \n",
      " 5   Product Category     1000 non-null   object \n",
      " 6   Quantity             1000 non-null   int64  \n",
      " 7   Price per Unit       1000 non-null   int64  \n",
      " 8   Total Amount         1000 non-null   int64  \n",
      " 9   Min_age              1 non-null      float64\n",
      " 10  Max_age              1 non-null      float64\n",
      " 11  Avg_age              1 non-null      float64\n",
      " 12  Total Sales Revenue  1 non-null      float64\n",
      " 13  Average Order value  1 non-null      float64\n",
      " 14   Category            3 non-null      object \n",
      " 15  Sales                3 non-null      float64\n",
      "dtypes: float64(6), int64(5), object(5)\n",
      "memory usage: 125.1+ KB\n"
     ]
    }
   ],
   "source": [
    "df.info()"
   ]
  },
  {
   "cell_type": "code",
   "execution_count": 758,
   "id": "be267e8f-dee9-401c-8d80-a91714df828f",
   "metadata": {},
   "outputs": [
    {
     "data": {
      "text/html": [
       "<div>\n",
       "<style scoped>\n",
       "    .dataframe tbody tr th:only-of-type {\n",
       "        vertical-align: middle;\n",
       "    }\n",
       "\n",
       "    .dataframe tbody tr th {\n",
       "        vertical-align: top;\n",
       "    }\n",
       "\n",
       "    .dataframe thead th {\n",
       "        text-align: right;\n",
       "    }\n",
       "</style>\n",
       "<table border=\"1\" class=\"dataframe\">\n",
       "  <thead>\n",
       "    <tr style=\"text-align: right;\">\n",
       "      <th></th>\n",
       "      <th>Transaction ID</th>\n",
       "      <th>Date</th>\n",
       "      <th>Gender</th>\n",
       "      <th>Age</th>\n",
       "      <th>Age Group</th>\n",
       "      <th>Product Category</th>\n",
       "      <th>Quantity</th>\n",
       "      <th>Price per Unit</th>\n",
       "      <th>Total Amount</th>\n",
       "      <th>Total Sales Revenue</th>\n",
       "      <th>Average Order value</th>\n",
       "      <th>Category</th>\n",
       "      <th>Sales</th>\n",
       "    </tr>\n",
       "  </thead>\n",
       "  <tbody>\n",
       "    <tr>\n",
       "      <th>0</th>\n",
       "      <td>1</td>\n",
       "      <td>11/24/2023</td>\n",
       "      <td>Male</td>\n",
       "      <td>34</td>\n",
       "      <td>Middle Age</td>\n",
       "      <td>Beauty</td>\n",
       "      <td>3</td>\n",
       "      <td>50</td>\n",
       "      <td>150</td>\n",
       "      <td>456000.0</td>\n",
       "      <td>456.0</td>\n",
       "      <td>Electronics</td>\n",
       "      <td>156905.0</td>\n",
       "    </tr>\n",
       "    <tr>\n",
       "      <th>1</th>\n",
       "      <td>2</td>\n",
       "      <td>2/27/2023</td>\n",
       "      <td>Female</td>\n",
       "      <td>26</td>\n",
       "      <td>Adolescent</td>\n",
       "      <td>Clothing</td>\n",
       "      <td>2</td>\n",
       "      <td>500</td>\n",
       "      <td>1000</td>\n",
       "      <td>NaN</td>\n",
       "      <td>NaN</td>\n",
       "      <td>Clothing</td>\n",
       "      <td>155580.0</td>\n",
       "    </tr>\n",
       "  </tbody>\n",
       "</table>\n",
       "</div>"
      ],
      "text/plain": [
       "   Transaction ID        Date  Gender  Age   Age Group Product Category  \\\n",
       "0               1  11/24/2023    Male   34  Middle Age           Beauty   \n",
       "1               2   2/27/2023  Female   26  Adolescent         Clothing   \n",
       "\n",
       "   Quantity  Price per Unit  Total Amount  Total Sales Revenue  \\\n",
       "0         3              50           150             456000.0   \n",
       "1         2             500          1000                  NaN   \n",
       "\n",
       "   Average Order value     Category     Sales  \n",
       "0                456.0  Electronics  156905.0  \n",
       "1                  NaN     Clothing  155580.0  "
      ]
     },
     "execution_count": 758,
     "metadata": {},
     "output_type": "execute_result"
    }
   ],
   "source": [
    "# drop das colunas min_age, mas_age e Avg_age por guardarem somente o valor minimo, maximo e a media das idades \n",
    "\n",
    "colunas_removidas = ['Min_age', 'Max_age', 'Avg_age']\n",
    "df = df.drop(columns = colunas_removidas) \n",
    "df.head(2)"
   ]
  },
  {
   "cell_type": "code",
   "execution_count": 760,
   "id": "2ea47225-5dd7-4fad-aa7e-81ae330185af",
   "metadata": {},
   "outputs": [
    {
     "data": {
      "text/plain": [
       "456000"
      ]
     },
     "execution_count": 760,
     "metadata": {},
     "output_type": "execute_result"
    }
   ],
   "source": [
    "# entendendo coluna Total Sales Revenue\n",
    "# se trata do valor total vendido, ou seja o valor vendido em toda a base\n",
    "igual_total_sale_revenue = df['Total Amount'].sum()\n",
    "igual_total_sale_revenue"
   ]
  },
  {
   "cell_type": "code",
   "execution_count": 762,
   "id": "fc5ec407-6c35-46e3-82f7-4360b2520851",
   "metadata": {},
   "outputs": [
    {
     "data": {
      "text/html": [
       "<div>\n",
       "<style scoped>\n",
       "    .dataframe tbody tr th:only-of-type {\n",
       "        vertical-align: middle;\n",
       "    }\n",
       "\n",
       "    .dataframe tbody tr th {\n",
       "        vertical-align: top;\n",
       "    }\n",
       "\n",
       "    .dataframe thead th {\n",
       "        text-align: right;\n",
       "    }\n",
       "</style>\n",
       "<table border=\"1\" class=\"dataframe\">\n",
       "  <thead>\n",
       "    <tr style=\"text-align: right;\">\n",
       "      <th></th>\n",
       "      <th>Transaction ID</th>\n",
       "      <th>Date</th>\n",
       "      <th>Gender</th>\n",
       "      <th>Age</th>\n",
       "      <th>Age Group</th>\n",
       "      <th>Product Category</th>\n",
       "      <th>Quantity</th>\n",
       "      <th>Price per Unit</th>\n",
       "      <th>Total Amount</th>\n",
       "      <th>Average Order value</th>\n",
       "    </tr>\n",
       "  </thead>\n",
       "  <tbody>\n",
       "    <tr>\n",
       "      <th>0</th>\n",
       "      <td>1</td>\n",
       "      <td>11/24/2023</td>\n",
       "      <td>Male</td>\n",
       "      <td>34</td>\n",
       "      <td>Middle Age</td>\n",
       "      <td>Beauty</td>\n",
       "      <td>3</td>\n",
       "      <td>50</td>\n",
       "      <td>150</td>\n",
       "      <td>456.0</td>\n",
       "    </tr>\n",
       "    <tr>\n",
       "      <th>1</th>\n",
       "      <td>2</td>\n",
       "      <td>2/27/2023</td>\n",
       "      <td>Female</td>\n",
       "      <td>26</td>\n",
       "      <td>Adolescent</td>\n",
       "      <td>Clothing</td>\n",
       "      <td>2</td>\n",
       "      <td>500</td>\n",
       "      <td>1000</td>\n",
       "      <td>NaN</td>\n",
       "    </tr>\n",
       "  </tbody>\n",
       "</table>\n",
       "</div>"
      ],
      "text/plain": [
       "   Transaction ID        Date  Gender  Age   Age Group Product Category  \\\n",
       "0               1  11/24/2023    Male   34  Middle Age           Beauty   \n",
       "1               2   2/27/2023  Female   26  Adolescent         Clothing   \n",
       "\n",
       "   Quantity  Price per Unit  Total Amount  Average Order value  \n",
       "0         3              50           150                456.0  \n",
       "1         2             500          1000                  NaN  "
      ]
     },
     "execution_count": 762,
     "metadata": {},
     "output_type": "execute_result"
    }
   ],
   "source": [
    "# removendo Total Sales Revenue e category, category só armazena as categorias possiveis na base\n",
    "# como a coluna Sales armazena somente o velor total vendido por categoria não usarei ela\n",
    "\n",
    "colunas_usadas = ['Transaction ID', 'Date', 'Gender', 'Age', 'Age Group', 'Product Category', 'Quantity', 'Price per Unit',\n",
    "                     'Total Amount', 'Average Order value']\n",
    "df_vendas = df[colunas_usadas]\n",
    "df_vendas.head(2)"
   ]
  },
  {
   "cell_type": "code",
   "execution_count": 764,
   "id": "2499a0d5-99b1-4a23-874d-e3f6eed36b0c",
   "metadata": {},
   "outputs": [
    {
     "data": {
      "text/plain": [
       "1000"
      ]
     },
     "execution_count": 764,
     "metadata": {},
     "output_type": "execute_result"
    }
   ],
   "source": [
    "# analisando se houveram clientes que fizeram mais de uma compra\n",
    "# como o df só tem 1000 registros (linhas) e a soma deu 1000 isso siguinifica que cada cliente só fez uma compra\n",
    "# ou seja o valor da coluna Average Order value não armazena a media do peido\n",
    "\n",
    "mais_de_uma_compra = df_vendas['Transaction ID'].value_counts()\n",
    "mais_de_uma_compra.sum()"
   ]
  },
  {
   "cell_type": "code",
   "execution_count": 766,
   "id": "7af21bc8-c8bf-482a-9c02-22bfb2feeed7",
   "metadata": {},
   "outputs": [
    {
     "data": {
      "text/html": [
       "<div>\n",
       "<style scoped>\n",
       "    .dataframe tbody tr th:only-of-type {\n",
       "        vertical-align: middle;\n",
       "    }\n",
       "\n",
       "    .dataframe tbody tr th {\n",
       "        vertical-align: top;\n",
       "    }\n",
       "\n",
       "    .dataframe thead th {\n",
       "        text-align: right;\n",
       "    }\n",
       "</style>\n",
       "<table border=\"1\" class=\"dataframe\">\n",
       "  <thead>\n",
       "    <tr style=\"text-align: right;\">\n",
       "      <th></th>\n",
       "      <th>Product Category</th>\n",
       "      <th>Total_Amount</th>\n",
       "    </tr>\n",
       "  </thead>\n",
       "  <tbody>\n",
       "    <tr>\n",
       "      <th>0</th>\n",
       "      <td>Beauty</td>\n",
       "      <td>467.48</td>\n",
       "    </tr>\n",
       "    <tr>\n",
       "      <th>1</th>\n",
       "      <td>Clothing</td>\n",
       "      <td>443.25</td>\n",
       "    </tr>\n",
       "    <tr>\n",
       "      <th>2</th>\n",
       "      <td>Electronics</td>\n",
       "      <td>458.79</td>\n",
       "    </tr>\n",
       "  </tbody>\n",
       "</table>\n",
       "</div>"
      ],
      "text/plain": [
       "  Product Category  Total_Amount\n",
       "0           Beauty        467.48\n",
       "1         Clothing        443.25\n",
       "2      Electronics        458.79"
      ]
     },
     "execution_count": 766,
     "metadata": {},
     "output_type": "execute_result"
    }
   ],
   "source": [
    "# talvez a coluna Average Order value seja media por categoria?\n",
    "\n",
    "grupo_catg = df_vendas.groupby('Product Category').agg(\n",
    "    Total_Amount=pd.NamedAgg(column='Total Amount', aggfunc='mean')\n",
    ").reset_index().round(2)\n",
    "grupo_catg"
   ]
  },
  {
   "cell_type": "code",
   "execution_count": 768,
   "id": "c11933c9-9db2-432b-aae6-3e4f9bf8c2eb",
   "metadata": {},
   "outputs": [
    {
     "data": {
      "text/html": [
       "<div>\n",
       "<style scoped>\n",
       "    .dataframe tbody tr th:only-of-type {\n",
       "        vertical-align: middle;\n",
       "    }\n",
       "\n",
       "    .dataframe tbody tr th {\n",
       "        vertical-align: top;\n",
       "    }\n",
       "\n",
       "    .dataframe thead th {\n",
       "        text-align: right;\n",
       "    }\n",
       "</style>\n",
       "<table border=\"1\" class=\"dataframe\">\n",
       "  <thead>\n",
       "    <tr style=\"text-align: right;\">\n",
       "      <th></th>\n",
       "      <th>Age Group</th>\n",
       "      <th>Total_Amount</th>\n",
       "    </tr>\n",
       "  </thead>\n",
       "  <tbody>\n",
       "    <tr>\n",
       "      <th>0</th>\n",
       "      <td>Adolescent</td>\n",
       "      <td>485.31</td>\n",
       "    </tr>\n",
       "    <tr>\n",
       "      <th>1</th>\n",
       "      <td>Middle Age</td>\n",
       "      <td>455.31</td>\n",
       "    </tr>\n",
       "    <tr>\n",
       "      <th>2</th>\n",
       "      <td>Old</td>\n",
       "      <td>417.55</td>\n",
       "    </tr>\n",
       "  </tbody>\n",
       "</table>\n",
       "</div>"
      ],
      "text/plain": [
       "    Age Group  Total_Amount\n",
       "0  Adolescent        485.31\n",
       "1  Middle Age        455.31\n",
       "2         Old        417.55"
      ]
     },
     "execution_count": 768,
     "metadata": {},
     "output_type": "execute_result"
    }
   ],
   "source": [
    "# talvez a coluna Average Order value seja media por grupo de idade?\n",
    "\n",
    "grupo_idade = df_vendas.groupby('Age Group').agg(\n",
    "    Total_Amount=pd.NamedAgg(column='Total Amount', aggfunc='mean')\n",
    ").reset_index().round(2)\n",
    "grupo_idade"
   ]
  },
  {
   "cell_type": "code",
   "execution_count": 770,
   "id": "7ad131c3-d044-4fcb-af32-2bf310b20b53",
   "metadata": {},
   "outputs": [
    {
     "data": {
      "text/html": [
       "<div>\n",
       "<style scoped>\n",
       "    .dataframe tbody tr th:only-of-type {\n",
       "        vertical-align: middle;\n",
       "    }\n",
       "\n",
       "    .dataframe tbody tr th {\n",
       "        vertical-align: top;\n",
       "    }\n",
       "\n",
       "    .dataframe thead th {\n",
       "        text-align: right;\n",
       "    }\n",
       "</style>\n",
       "<table border=\"1\" class=\"dataframe\">\n",
       "  <thead>\n",
       "    <tr style=\"text-align: right;\">\n",
       "      <th></th>\n",
       "      <th>Transaction ID</th>\n",
       "      <th>Date</th>\n",
       "      <th>Gender</th>\n",
       "      <th>Age</th>\n",
       "      <th>Age Group</th>\n",
       "      <th>Product Category</th>\n",
       "      <th>Quantity</th>\n",
       "      <th>Price per Unit</th>\n",
       "      <th>Total Amount</th>\n",
       "    </tr>\n",
       "  </thead>\n",
       "  <tbody>\n",
       "    <tr>\n",
       "      <th>0</th>\n",
       "      <td>1</td>\n",
       "      <td>11/24/2023</td>\n",
       "      <td>Male</td>\n",
       "      <td>34</td>\n",
       "      <td>Middle Age</td>\n",
       "      <td>Beauty</td>\n",
       "      <td>3</td>\n",
       "      <td>50</td>\n",
       "      <td>150</td>\n",
       "    </tr>\n",
       "    <tr>\n",
       "      <th>1</th>\n",
       "      <td>2</td>\n",
       "      <td>2/27/2023</td>\n",
       "      <td>Female</td>\n",
       "      <td>26</td>\n",
       "      <td>Adolescent</td>\n",
       "      <td>Clothing</td>\n",
       "      <td>2</td>\n",
       "      <td>500</td>\n",
       "      <td>1000</td>\n",
       "    </tr>\n",
       "  </tbody>\n",
       "</table>\n",
       "</div>"
      ],
      "text/plain": [
       "   Transaction ID        Date  Gender  Age   Age Group Product Category  \\\n",
       "0               1  11/24/2023    Male   34  Middle Age           Beauty   \n",
       "1               2   2/27/2023  Female   26  Adolescent         Clothing   \n",
       "\n",
       "   Quantity  Price per Unit  Total Amount  \n",
       "0         3              50           150  \n",
       "1         2             500          1000  "
      ]
     },
     "execution_count": 770,
     "metadata": {},
     "output_type": "execute_result"
    }
   ],
   "source": [
    "# Devido a falta de informações e relevancia da coluna Average Order value ela sera descontinuada na analise\n",
    "\n",
    "df_vendas = df_vendas.drop(columns = ['Average Order value'])\n",
    "df_vendas.head(2)"
   ]
  },
  {
   "cell_type": "code",
   "execution_count": 772,
   "id": "24e61430-15b5-43d8-ba41-9fca72f935bf",
   "metadata": {},
   "outputs": [
    {
     "data": {
      "text/html": [
       "<div>\n",
       "<style scoped>\n",
       "    .dataframe tbody tr th:only-of-type {\n",
       "        vertical-align: middle;\n",
       "    }\n",
       "\n",
       "    .dataframe tbody tr th {\n",
       "        vertical-align: top;\n",
       "    }\n",
       "\n",
       "    .dataframe thead th {\n",
       "        text-align: right;\n",
       "    }\n",
       "</style>\n",
       "<table border=\"1\" class=\"dataframe\">\n",
       "  <thead>\n",
       "    <tr style=\"text-align: right;\">\n",
       "      <th></th>\n",
       "      <th>Product Category</th>\n",
       "      <th>lucro</th>\n",
       "    </tr>\n",
       "  </thead>\n",
       "  <tbody>\n",
       "    <tr>\n",
       "      <th>0</th>\n",
       "      <td>Beauty</td>\n",
       "      <td>143515</td>\n",
       "    </tr>\n",
       "    <tr>\n",
       "      <th>1</th>\n",
       "      <td>Clothing</td>\n",
       "      <td>155580</td>\n",
       "    </tr>\n",
       "    <tr>\n",
       "      <th>2</th>\n",
       "      <td>Electronics</td>\n",
       "      <td>156905</td>\n",
       "    </tr>\n",
       "  </tbody>\n",
       "</table>\n",
       "</div>"
      ],
      "text/plain": [
       "  Product Category   lucro\n",
       "0           Beauty  143515\n",
       "1         Clothing  155580\n",
       "2      Electronics  156905"
      ]
     },
     "execution_count": 772,
     "metadata": {},
     "output_type": "execute_result"
    }
   ],
   "source": [
    "# qual a categoria de produtos com mais lucro?\n",
    "# pouca diferença entre as categorias\n",
    "\n",
    "melhor_categ = df_vendas.groupby('Product Category').agg(\n",
    "    lucro = pd.NamedAgg(column='Total Amount', aggfunc='sum')\n",
    ").reset_index()\n",
    "\n",
    "melhor_categ"
   ]
  },
  {
   "cell_type": "code",
   "execution_count": 774,
   "id": "88a3411e-992b-4e11-88c0-0a31fb589801",
   "metadata": {},
   "outputs": [
    {
     "data": {
      "text/html": [
       "<div>\n",
       "<style scoped>\n",
       "    .dataframe tbody tr th:only-of-type {\n",
       "        vertical-align: middle;\n",
       "    }\n",
       "\n",
       "    .dataframe tbody tr th {\n",
       "        vertical-align: top;\n",
       "    }\n",
       "\n",
       "    .dataframe thead th {\n",
       "        text-align: right;\n",
       "    }\n",
       "</style>\n",
       "<table border=\"1\" class=\"dataframe\">\n",
       "  <thead>\n",
       "    <tr style=\"text-align: right;\">\n",
       "      <th></th>\n",
       "      <th>Age Group</th>\n",
       "      <th>vendas</th>\n",
       "      <th>porcem</th>\n",
       "    </tr>\n",
       "  </thead>\n",
       "  <tbody>\n",
       "    <tr>\n",
       "      <th>0</th>\n",
       "      <td>Adolescent</td>\n",
       "      <td>143165</td>\n",
       "      <td>31.40</td>\n",
       "    </tr>\n",
       "    <tr>\n",
       "      <th>1</th>\n",
       "      <td>Middle Age</td>\n",
       "      <td>222645</td>\n",
       "      <td>48.83</td>\n",
       "    </tr>\n",
       "    <tr>\n",
       "      <th>2</th>\n",
       "      <td>Old</td>\n",
       "      <td>90190</td>\n",
       "      <td>19.78</td>\n",
       "    </tr>\n",
       "  </tbody>\n",
       "</table>\n",
       "</div>"
      ],
      "text/plain": [
       "    Age Group  vendas  porcem\n",
       "0  Adolescent  143165   31.40\n",
       "1  Middle Age  222645   48.83\n",
       "2         Old   90190   19.78"
      ]
     },
     "execution_count": 774,
     "metadata": {},
     "output_type": "execute_result"
    }
   ],
   "source": [
    "# qual o grupo de idades que mais gastam?\n",
    "\n",
    "melhor_group_age = df_vendas.groupby('Age Group').agg(\n",
    "    vendas = pd.NamedAgg(column='Total Amount',aggfunc='sum')\n",
    ").reset_index()\n",
    "\n",
    "# criando coluna porcem que guarda a porcentagem das vendas em relação ao valor total\n",
    "melhor_group_age['porcem'] = (melhor_group_age['vendas'] / total_vendas) *100 \n",
    "\n",
    "melhor_group_age.round(2)"
   ]
  },
  {
   "cell_type": "code",
   "execution_count": 776,
   "id": "5cc6f42f-3338-4e24-95c9-34ba3bc7644d",
   "metadata": {},
   "outputs": [
    {
     "data": {
      "image/png": "[encoded data removed]",
      "text/plain": [
       "<Figure size 1200x600 with 1 Axes>"
      ]
     },
     "metadata": {},
     "output_type": "display_data"
    }
   ],
   "source": [
    "# qual a idade que mais gastam?\n",
    "\n",
    "melhor_age = df_vendas.groupby('Age').agg(\n",
    "    vendas = pd.NamedAgg(column='Total Amount',aggfunc='sum')\n",
    ").reset_index()\n",
    "\n",
    "# criando grafico de lihas para melhor visualização\n",
    "plt.figure(figsize=(12,6))\n",
    "sns.barplot(x='Age', y='vendas', data=melhor_age, \n",
    "            order=melhor_age.sort_values('vendas', ascending=False)['Age'])\n",
    "\n",
    "plt.title('valor gasto por idade')\n",
    "plt.xlabel('idades')\n",
    "plt.ylabel('vendas')\n",
    "\n",
    "plt.show()"
   ]
  },
  {
   "cell_type": "code",
   "execution_count": 777,
   "id": "13668a20-264e-4ce3-b7ed-6ea750039dd7",
   "metadata": {},
   "outputs": [
    {
     "data": {
      "text/html": [
       "<div>\n",
       "<style scoped>\n",
       "    .dataframe tbody tr th:only-of-type {\n",
       "        vertical-align: middle;\n",
       "    }\n",
       "\n",
       "    .dataframe tbody tr th {\n",
       "        vertical-align: top;\n",
       "    }\n",
       "\n",
       "    .dataframe thead th {\n",
       "        text-align: right;\n",
       "    }\n",
       "</style>\n",
       "<table border=\"1\" class=\"dataframe\">\n",
       "  <thead>\n",
       "    <tr style=\"text-align: right;\">\n",
       "      <th></th>\n",
       "      <th>Date</th>\n",
       "      <th>Total_Amount</th>\n",
       "    </tr>\n",
       "  </thead>\n",
       "  <tbody>\n",
       "    <tr>\n",
       "      <th>0</th>\n",
       "      <td>2022-12-26</td>\n",
       "      <td>3600</td>\n",
       "    </tr>\n",
       "    <tr>\n",
       "      <th>1</th>\n",
       "      <td>2023-01-02</td>\n",
       "      <td>6100</td>\n",
       "    </tr>\n",
       "    <tr>\n",
       "      <th>2</th>\n",
       "      <td>2023-01-09</td>\n",
       "      <td>4850</td>\n",
       "    </tr>\n",
       "    <tr>\n",
       "      <th>3</th>\n",
       "      <td>2023-01-16</td>\n",
       "      <td>8215</td>\n",
       "    </tr>\n",
       "    <tr>\n",
       "      <th>4</th>\n",
       "      <td>2023-01-23</td>\n",
       "      <td>9845</td>\n",
       "    </tr>\n",
       "  </tbody>\n",
       "</table>\n",
       "</div>"
      ],
      "text/plain": [
       "        Date  Total_Amount\n",
       "0 2022-12-26          3600\n",
       "1 2023-01-02          6100\n",
       "2 2023-01-09          4850\n",
       "3 2023-01-16          8215\n",
       "4 2023-01-23          9845"
      ]
     },
     "execution_count": 777,
     "metadata": {},
     "output_type": "execute_result"
    }
   ],
   "source": [
    "# removendo janeiro de 2024 e dezembro de 2022, o foco das analises são no ano de 2023\n",
    "\n",
    "# Garantir que a coluna 'Date' seja do tipo datetime\n",
    "df_vendas['Date'] = pd.to_datetime(df_vendas['Date'])\n",
    "\n",
    "# Selecionar apenas os dados de 2023\n",
    "df_vendas = df_vendas[df_vendas['Date'].dt.year == 2023]\n",
    "# criando novo df com agrupamento do valor por semana\n",
    "\n",
    "grupo_semana = df_vendas.groupby(df_vendas['Date'].dt.to_period('W').dt.to_timestamp()).agg(\n",
    "    Total_Amount=pd.NamedAgg(column='Total Amount', aggfunc='sum')\n",
    ").reset_index()\n",
    "\n",
    "# Ver as primeiras linhas do novo DataFrame\n",
    "grupo_semana.head()"
   ]
  },
  {
   "cell_type": "code",
   "execution_count": 778,
   "id": "2509f180-aad3-479e-92cd-03ae6cf62b3c",
   "metadata": {},
   "outputs": [
    {
     "data": {
      "image/png": "[encoded data removed]",
      "text/plain": [
       "<Figure size 1500x600 with 1 Axes>"
      ]
     },
     "metadata": {},
     "output_type": "display_data"
    }
   ],
   "source": [
    "# Converter 'Date' para string para evitar erros no gráfico\n",
    "grupo_semana['Date'] = grupo_semana['Date'].astype(str)\n",
    "\n",
    "# criando grafico de linhas \n",
    "\n",
    "plt.figure(figsize=(15,6))\n",
    "sns.lineplot(x='Date', y='Total_Amount', data=grupo_semana, marker='o', label='Valor vendido no mes')\n",
    "\n",
    "plt.xlabel('Data')\n",
    "plt.ylabel('vendas')\n",
    "plt.title('vendas ao longo do tempo')\n",
    "plt.xticks(rotation=45)\n",
    "plt.grid()\n",
    "plt.legend()\n",
    "\n",
    "plt.show()"
   ]
  },
  {
   "cell_type": "code",
   "execution_count": 779,
   "id": "85436ca2-0341-4545-8a99-4bd8c2a053bd",
   "metadata": {},
   "outputs": [
    {
     "data": {
      "image/png": "[encoded data removed]",
      "text/plain": [
       "<Figure size 1200x600 with 1 Axes>"
      ]
     },
     "metadata": {},
     "output_type": "display_data"
    }
   ],
   "source": [
    "# Criando grafico boxplot\n",
    "\n",
    "plt.figure(figsize=(12, 6))\n",
    "sns.boxplot(x='Product Category', y='Total Amount', data=df_vendas)\n",
    "\n",
    "plt.title('Distribuição do Total Amount por Categoria de Produto')\n",
    "plt.xlabel('Categoria de Produto')\n",
    "plt.ylabel('Total Amount')\n",
    "\n",
    "plt.xticks(rotation=45)  \n",
    "plt.show()"
   ]
  },
  {
   "cell_type": "code",
   "execution_count": 782,
   "id": "2c211c2b-fbbc-4dd3-88ab-f0cdc31df1a1",
   "metadata": {},
   "outputs": [
    {
     "name": "stdout",
     "output_type": "stream",
     "text": [
      "Outliers na categoria Clothing:\n"
     ]
    },
    {
     "data": {
      "text/html": [
       "<div>\n",
       "<style scoped>\n",
       "    .dataframe tbody tr th:only-of-type {\n",
       "        vertical-align: middle;\n",
       "    }\n",
       "\n",
       "    .dataframe tbody tr th {\n",
       "        vertical-align: top;\n",
       "    }\n",
       "\n",
       "    .dataframe thead th {\n",
       "        text-align: right;\n",
       "    }\n",
       "</style>\n",
       "<table border=\"1\" class=\"dataframe\">\n",
       "  <thead>\n",
       "    <tr style=\"text-align: right;\">\n",
       "      <th></th>\n",
       "      <th>Transaction ID</th>\n",
       "      <th>Date</th>\n",
       "      <th>Gender</th>\n",
       "      <th>Age</th>\n",
       "      <th>Age Group</th>\n",
       "      <th>Product Category</th>\n",
       "      <th>Quantity</th>\n",
       "      <th>Price per Unit</th>\n",
       "      <th>Total Amount</th>\n",
       "    </tr>\n",
       "  </thead>\n",
       "  <tbody>\n",
       "    <tr>\n",
       "      <th>15</th>\n",
       "      <td>16</td>\n",
       "      <td>2023-02-17</td>\n",
       "      <td>Male</td>\n",
       "      <td>19</td>\n",
       "      <td>Adolescent</td>\n",
       "      <td>Clothing</td>\n",
       "      <td>3</td>\n",
       "      <td>500</td>\n",
       "      <td>1500</td>\n",
       "    </tr>\n",
       "    <tr>\n",
       "      <th>77</th>\n",
       "      <td>78</td>\n",
       "      <td>2023-07-01</td>\n",
       "      <td>Female</td>\n",
       "      <td>47</td>\n",
       "      <td>Middle Age</td>\n",
       "      <td>Clothing</td>\n",
       "      <td>3</td>\n",
       "      <td>500</td>\n",
       "      <td>1500</td>\n",
       "    </tr>\n",
       "    <tr>\n",
       "      <th>111</th>\n",
       "      <td>112</td>\n",
       "      <td>2023-12-02</td>\n",
       "      <td>Male</td>\n",
       "      <td>37</td>\n",
       "      <td>Middle Age</td>\n",
       "      <td>Clothing</td>\n",
       "      <td>3</td>\n",
       "      <td>500</td>\n",
       "      <td>1500</td>\n",
       "    </tr>\n",
       "    <tr>\n",
       "      <th>114</th>\n",
       "      <td>115</td>\n",
       "      <td>2023-11-26</td>\n",
       "      <td>Male</td>\n",
       "      <td>51</td>\n",
       "      <td>Middle Age</td>\n",
       "      <td>Clothing</td>\n",
       "      <td>3</td>\n",
       "      <td>500</td>\n",
       "      <td>1500</td>\n",
       "    </tr>\n",
       "    <tr>\n",
       "      <th>123</th>\n",
       "      <td>124</td>\n",
       "      <td>2023-10-27</td>\n",
       "      <td>Male</td>\n",
       "      <td>33</td>\n",
       "      <td>Middle Age</td>\n",
       "      <td>Clothing</td>\n",
       "      <td>4</td>\n",
       "      <td>500</td>\n",
       "      <td>2000</td>\n",
       "    </tr>\n",
       "  </tbody>\n",
       "</table>\n",
       "</div>"
      ],
      "text/plain": [
       "     Transaction ID       Date  Gender  Age   Age Group Product Category  \\\n",
       "15               16 2023-02-17    Male   19  Adolescent         Clothing   \n",
       "77               78 2023-07-01  Female   47  Middle Age         Clothing   \n",
       "111             112 2023-12-02    Male   37  Middle Age         Clothing   \n",
       "114             115 2023-11-26    Male   51  Middle Age         Clothing   \n",
       "123             124 2023-10-27    Male   33  Middle Age         Clothing   \n",
       "\n",
       "     Quantity  Price per Unit  Total Amount  \n",
       "15          3             500          1500  \n",
       "77          3             500          1500  \n",
       "111         3             500          1500  \n",
       "114         3             500          1500  \n",
       "123         4             500          2000  "
      ]
     },
     "execution_count": 782,
     "metadata": {},
     "output_type": "execute_result"
    }
   ],
   "source": [
    "# Filtrando o DataFrame para a categoria 'Clothing'\n",
    "df_clothing = df_vendas[df_vendas['Product Category'] == 'Clothing']\n",
    "\n",
    "# Calculando os quartis e o IQR para 'Total Amount' apenas para Clothing\n",
    "Q1_clothing = df_clothing['Total Amount'].quantile(0.25)\n",
    "Q3_clothing = df_clothing['Total Amount'].quantile(0.75)\n",
    "IQR_clothing = Q3_clothing - Q1_clothing\n",
    "\n",
    "# Definindo os limites para outliers na categoria Clothing\n",
    "limite_inferior_clothing = Q1_clothing - 1.5 * IQR_clothing\n",
    "limite_superior_clothing = Q3_clothing + 1.5 * IQR_clothing\n",
    "\n",
    "# Filtrando os outliers para a categoria Clothing\n",
    "outliers_clothing = df_clothing[(df_clothing['Total Amount'] < limite_inferior_clothing) | \n",
    "                                (df_clothing['Total Amount'] > limite_superior_clothing)]\n",
    "print(\"Outliers na categoria Clothing:\")\n",
    "outliers_clothing.head()"
   ]
  },
  {
   "cell_type": "markdown",
   "id": "6950e926-6ad0-4bd9-a1c5-14ffd6c4adc8",
   "metadata": {},
   "source": [
    "não vejo motivo para remover essas linhas, então vou manter elas no df"
   ]
  },
  {
   "cell_type": "code",
   "execution_count": 784,
   "id": "6d0fe4ae-aa25-40c8-8afd-ed2f33d45352",
   "metadata": {},
   "outputs": [
    {
     "data": {
      "image/png": "[encoded data removed]",
      "text/plain": [
       "<Figure size 1000x600 with 2 Axes>"
      ]
     },
     "metadata": {},
     "output_type": "display_data"
    }
   ],
   "source": [
    "# separando colunas numericas\n",
    "colunas_numericas = ['Total Amount', 'Quantity', 'Price per Unit']\n",
    "df_numerico = df_vendas[colunas_numericas]\n",
    "\n",
    "# calculando a matriz de correlação\n",
    "correlacao = df_numerico.corr()\n",
    "\n",
    "# plot matriz de correlação\n",
    "plt.figure(figsize=(10,6))\n",
    "sns.heatmap(correlacao, annot=True, cmap='coolwarm', fmt='.2f')\n",
    "plt.title('Matriz de Correlação entre Variáveis Numéricas')\n",
    "plt.show()"
   ]
  },
  {
   "cell_type": "markdown",
   "id": "26f64b88-1a8d-4c67-bada-b82b12748c8d",
   "metadata": {},
   "source": [
    "todas tem uma correlação boa, tirando quantidade mas ela é importante sim"
   ]
  },
  {
   "cell_type": "markdown",
   "id": "2e0b0627-9ee8-4416-a7cf-4e5a2bc87f41",
   "metadata": {},
   "source": [
    "## Modelo ARIMA"
   ]
  },
  {
   "cell_type": "markdown",
   "id": "85344d19-365e-43a3-89f8-5cecd57ee477",
   "metadata": {},
   "source": [
    "Escolhi o ARIMA devido à sua capacidade de modelar séries temporais, capturando tendências e sazonalidades, ideal para prever vendas futuras com base em dados históricos."
   ]
  },
  {
   "cell_type": "code",
   "execution_count": 792,
   "id": "d3204bfd-6b9a-4ffa-bb78-2bc4c08af6c4",
   "metadata": {},
   "outputs": [
    {
     "name": "stdout",
     "output_type": "stream",
     "text": [
      "<class 'pandas.core.frame.DataFrame'>\n",
      "Index: 998 entries, 0 to 999\n",
      "Data columns (total 9 columns):\n",
      " #   Column            Non-Null Count  Dtype         \n",
      "---  ------            --------------  -----         \n",
      " 0   Transaction ID    998 non-null    int64         \n",
      " 1   Date              998 non-null    datetime64[ns]\n",
      " 2   Gender            998 non-null    object        \n",
      " 3   Age               998 non-null    int64         \n",
      " 4   Age Group         998 non-null    object        \n",
      " 5   Product Category  998 non-null    object        \n",
      " 6   Quantity          998 non-null    int64         \n",
      " 7   Price per Unit    998 non-null    int64         \n",
      " 8   Total Amount      998 non-null    int64         \n",
      "dtypes: datetime64[ns](1), int64(5), object(3)\n",
      "memory usage: 78.0+ KB\n"
     ]
    }
   ],
   "source": [
    "# vendo tipos dos dados\n",
    "\n",
    "df_vendas.info()"
   ]
  },
  {
   "cell_type": "markdown",
   "id": "3de6b96f-c141-4b93-af77-1ce73af9fa74",
   "metadata": {},
   "source": [
    "preparando a base pro ARIMA"
   ]
  },
  {
   "cell_type": "code",
   "execution_count": 795,
   "id": "6127a203-0326-4341-b7d9-edfc2dd881d9",
   "metadata": {},
   "outputs": [
    {
     "data": {
      "text/html": [
       "<div>\n",
       "<style scoped>\n",
       "    .dataframe tbody tr th:only-of-type {\n",
       "        vertical-align: middle;\n",
       "    }\n",
       "\n",
       "    .dataframe tbody tr th {\n",
       "        vertical-align: top;\n",
       "    }\n",
       "\n",
       "    .dataframe thead th {\n",
       "        text-align: right;\n",
       "    }\n",
       "</style>\n",
       "<table border=\"1\" class=\"dataframe\">\n",
       "  <thead>\n",
       "    <tr style=\"text-align: right;\">\n",
       "      <th></th>\n",
       "      <th>Transaction ID</th>\n",
       "      <th>Gender</th>\n",
       "      <th>Age</th>\n",
       "      <th>Age Group</th>\n",
       "      <th>Product Category</th>\n",
       "      <th>Quantity</th>\n",
       "      <th>Price per Unit</th>\n",
       "      <th>Total Amount</th>\n",
       "    </tr>\n",
       "    <tr>\n",
       "      <th>Date</th>\n",
       "      <th></th>\n",
       "      <th></th>\n",
       "      <th></th>\n",
       "      <th></th>\n",
       "      <th></th>\n",
       "      <th></th>\n",
       "      <th></th>\n",
       "      <th></th>\n",
       "    </tr>\n",
       "  </thead>\n",
       "  <tbody>\n",
       "    <tr>\n",
       "      <th>2023-11-24</th>\n",
       "      <td>1</td>\n",
       "      <td>Male</td>\n",
       "      <td>34</td>\n",
       "      <td>Middle Age</td>\n",
       "      <td>Beauty</td>\n",
       "      <td>3</td>\n",
       "      <td>50</td>\n",
       "      <td>150</td>\n",
       "    </tr>\n",
       "    <tr>\n",
       "      <th>2023-02-27</th>\n",
       "      <td>2</td>\n",
       "      <td>Female</td>\n",
       "      <td>26</td>\n",
       "      <td>Adolescent</td>\n",
       "      <td>Clothing</td>\n",
       "      <td>2</td>\n",
       "      <td>500</td>\n",
       "      <td>1000</td>\n",
       "    </tr>\n",
       "    <tr>\n",
       "      <th>2023-01-13</th>\n",
       "      <td>3</td>\n",
       "      <td>Male</td>\n",
       "      <td>50</td>\n",
       "      <td>Middle Age</td>\n",
       "      <td>Electronics</td>\n",
       "      <td>1</td>\n",
       "      <td>30</td>\n",
       "      <td>30</td>\n",
       "    </tr>\n",
       "  </tbody>\n",
       "</table>\n",
       "</div>"
      ],
      "text/plain": [
       "            Transaction ID  Gender  Age   Age Group Product Category  \\\n",
       "Date                                                                   \n",
       "2023-11-24               1    Male   34  Middle Age           Beauty   \n",
       "2023-02-27               2  Female   26  Adolescent         Clothing   \n",
       "2023-01-13               3    Male   50  Middle Age      Electronics   \n",
       "\n",
       "            Quantity  Price per Unit  Total Amount  \n",
       "Date                                                \n",
       "2023-11-24         3              50           150  \n",
       "2023-02-27         2             500          1000  \n",
       "2023-01-13         1              30            30  "
      ]
     },
     "execution_count": 795,
     "metadata": {},
     "output_type": "execute_result"
    }
   ],
   "source": [
    "# drop de duplicatas\n",
    "df_vendas = df_vendas.drop_duplicates(subset='Date')\n",
    "# Definindo 'Date' como índice\n",
    "df_vendas.set_index('Date', inplace=True)\n",
    "df_vendas.head(3)"
   ]
  },
  {
   "cell_type": "code",
   "execution_count": 797,
   "id": "4b1ff965-e023-4a01-a0bd-39d657e273af",
   "metadata": {},
   "outputs": [
    {
     "data": {
      "text/html": [
       "<div>\n",
       "<style scoped>\n",
       "    .dataframe tbody tr th:only-of-type {\n",
       "        vertical-align: middle;\n",
       "    }\n",
       "\n",
       "    .dataframe tbody tr th {\n",
       "        vertical-align: top;\n",
       "    }\n",
       "\n",
       "    .dataframe thead th {\n",
       "        text-align: right;\n",
       "    }\n",
       "</style>\n",
       "<table border=\"1\" class=\"dataframe\">\n",
       "  <thead>\n",
       "    <tr style=\"text-align: right;\">\n",
       "      <th></th>\n",
       "      <th>Transaction ID</th>\n",
       "      <th>Gender</th>\n",
       "      <th>Age</th>\n",
       "      <th>Age Group</th>\n",
       "      <th>Product Category</th>\n",
       "      <th>Quantity</th>\n",
       "      <th>Price per Unit</th>\n",
       "      <th>Total Amount</th>\n",
       "    </tr>\n",
       "    <tr>\n",
       "      <th>Date</th>\n",
       "      <th></th>\n",
       "      <th></th>\n",
       "      <th></th>\n",
       "      <th></th>\n",
       "      <th></th>\n",
       "      <th></th>\n",
       "      <th></th>\n",
       "      <th></th>\n",
       "    </tr>\n",
       "  </thead>\n",
       "  <tbody>\n",
       "    <tr>\n",
       "      <th>2023-01-01</th>\n",
       "      <td>180</td>\n",
       "      <td>Male</td>\n",
       "      <td>41</td>\n",
       "      <td>Middle Age</td>\n",
       "      <td>Clothing</td>\n",
       "      <td>3</td>\n",
       "      <td>300</td>\n",
       "      <td>900</td>\n",
       "    </tr>\n",
       "    <tr>\n",
       "      <th>2023-01-02</th>\n",
       "      <td>163</td>\n",
       "      <td>Female</td>\n",
       "      <td>64</td>\n",
       "      <td>Old</td>\n",
       "      <td>Clothing</td>\n",
       "      <td>3</td>\n",
       "      <td>50</td>\n",
       "      <td>150</td>\n",
       "    </tr>\n",
       "    <tr>\n",
       "      <th>2023-01-03</th>\n",
       "      <td>610</td>\n",
       "      <td>Female</td>\n",
       "      <td>26</td>\n",
       "      <td>Adolescent</td>\n",
       "      <td>Beauty</td>\n",
       "      <td>2</td>\n",
       "      <td>300</td>\n",
       "      <td>600</td>\n",
       "    </tr>\n",
       "    <tr>\n",
       "      <th>2023-01-04</th>\n",
       "      <td>32</td>\n",
       "      <td>Male</td>\n",
       "      <td>30</td>\n",
       "      <td>Adolescent</td>\n",
       "      <td>Beauty</td>\n",
       "      <td>3</td>\n",
       "      <td>30</td>\n",
       "      <td>90</td>\n",
       "    </tr>\n",
       "    <tr>\n",
       "      <th>2023-01-05</th>\n",
       "      <td>367</td>\n",
       "      <td>Female</td>\n",
       "      <td>57</td>\n",
       "      <td>Old</td>\n",
       "      <td>Electronics</td>\n",
       "      <td>1</td>\n",
       "      <td>50</td>\n",
       "      <td>50</td>\n",
       "    </tr>\n",
       "  </tbody>\n",
       "</table>\n",
       "</div>"
      ],
      "text/plain": [
       "            Transaction ID  Gender  Age   Age Group Product Category  \\\n",
       "Date                                                                   \n",
       "2023-01-01             180    Male   41  Middle Age         Clothing   \n",
       "2023-01-02             163  Female   64         Old         Clothing   \n",
       "2023-01-03             610  Female   26  Adolescent           Beauty   \n",
       "2023-01-04              32    Male   30  Adolescent           Beauty   \n",
       "2023-01-05             367  Female   57         Old      Electronics   \n",
       "\n",
       "            Quantity  Price per Unit  Total Amount  \n",
       "Date                                                \n",
       "2023-01-01         3             300           900  \n",
       "2023-01-02         3              50           150  \n",
       "2023-01-03         2             300           600  \n",
       "2023-01-04         3              30            90  \n",
       "2023-01-05         1              50            50  "
      ]
     },
     "execution_count": 797,
     "metadata": {},
     "output_type": "execute_result"
    }
   ],
   "source": [
    "# Ordenando os dados por data\n",
    "df_vendas = df_vendas.sort_index()\n",
    "df_vendas.head()"
   ]
  },
  {
   "cell_type": "code",
   "execution_count": 799,
   "id": "e1282b33-ed60-401e-95b3-cab3f93c3033",
   "metadata": {},
   "outputs": [
    {
     "name": "stdout",
     "output_type": "stream",
     "text": [
      "Valor p do teste ADF: 3.5679441580313984e-30\n"
     ]
    }
   ],
   "source": [
    "# vendo se a base é estacionaria  / se o valor for menos que 0.05 ela é estacionaria\n",
    "# Realizando o teste ADF\n",
    "\n",
    "result = adfuller(df_vendas['Total Amount'])\n",
    "print(f\"Valor p do teste ADF: {result[1]}\")\n"
   ]
  },
  {
   "cell_type": "code",
   "execution_count": 801,
   "id": "545499be-8be5-4e42-929f-f0a4c2a3f76e",
   "metadata": {},
   "outputs": [
    {
     "name": "stdout",
     "output_type": "stream",
     "text": [
      "<class 'pandas.core.frame.DataFrame'>\n",
      "DatetimeIndex: 344 entries, 2023-01-01 to 2023-12-31\n",
      "Data columns (total 8 columns):\n",
      " #   Column            Non-Null Count  Dtype \n",
      "---  ------            --------------  ----- \n",
      " 0   Transaction ID    344 non-null    int64 \n",
      " 1   Gender            344 non-null    object\n",
      " 2   Age               344 non-null    int64 \n",
      " 3   Age Group         344 non-null    object\n",
      " 4   Product Category  344 non-null    object\n",
      " 5   Quantity          344 non-null    int64 \n",
      " 6   Price per Unit    344 non-null    int64 \n",
      " 7   Total Amount      344 non-null    int64 \n",
      "dtypes: int64(5), object(3)\n",
      "memory usage: 24.2+ KB\n"
     ]
    }
   ],
   "source": [
    "df_vendas.info()"
   ]
  },
  {
   "cell_type": "code",
   "execution_count": 803,
   "id": "b1482207-6781-4a6b-9a54-32a1c93fb77e",
   "metadata": {},
   "outputs": [
    {
     "name": "stdout",
     "output_type": "stream",
     "text": [
      "2023-10-22    475.199940\n",
      "2023-10-29    466.944706\n",
      "2023-11-05    461.537148\n",
      "2023-11-12    457.994950\n",
      "2023-11-19    455.674648\n",
      "2023-11-26    454.154744\n",
      "2023-12-03    453.159137\n",
      "2023-12-10    452.506968\n",
      "2023-12-17    452.079768\n",
      "2023-12-24    451.799933\n",
      "2023-12-31    451.616627\n",
      "Freq: W-SUN, Name: predicted_mean, dtype: float64\n"
     ]
    }
   ],
   "source": [
    "# Ajustando para frequência semanal\n",
    "df_vendas = df_vendas.asfreq('W')\n",
    "\n",
    "# Definindo os dados de treino e teste (80% para treino e 20% para teste)\n",
    "treino = df_vendas['Total Amount'][:int(len(df_vendas)*0.8)]\n",
    "teste = df_vendas['Total Amount'][int(len(df_vendas)*0.8):]\n",
    "\n",
    "# Ajustando o modelo ARIMA para os dados de treino\n",
    "modelo = ARIMA(treino, order=(1, 0, 1))  # Exemplo com p=1, d=0, q=1\n",
    "modelo_fit = modelo.fit()\n",
    "\n",
    "# Previsões para o conjunto de teste\n",
    "previsoes = modelo_fit.forecast(steps=len(teste))\n",
    "\n",
    "# Exibindo as previsões\n",
    "print(previsoes)\n",
    "\n",
    "# Se desejar prever mais passos (12 semanas no exemplo), pode fazer:\n",
    "previsoes_futuras = modelo_fit.forecast(steps=12)  # Previsões para as próximas 12 semanas\n"
   ]
  },
  {
   "cell_type": "code",
   "execution_count": 805,
   "id": "18aba311-1b98-4c9d-922d-58bfe93efd72",
   "metadata": {},
   "outputs": [
    {
     "name": "stdout",
     "output_type": "stream",
     "text": [
      "MAE: 463.31978947816407\n",
      "RMSE: 518.5422797830663\n"
     ]
    }
   ],
   "source": [
    "# Calcular MAE, RMSE e MAPE\n",
    "mae = mean_absolute_error(teste, previsoes)\n",
    "rmse = np.sqrt(mean_squared_error(teste, previsoes))\n",
    "mape = np.mean(np.abs((teste - previsoes) / teste)) * 100\n",
    "\n",
    "print(f\"MAE: {mae}\")\n",
    "print(f\"RMSE: {rmse}\")"
   ]
  },
  {
   "cell_type": "code",
   "execution_count": null,
   "id": "382fc8f3-2ec9-459a-a430-2289c42e67e2",
   "metadata": {},
   "outputs": [],
   "source": []
  },
  {
   "cell_type": "code",
   "execution_count": null,
   "id": "b4950c31-94fc-47f0-9e43-399a95421090",
   "metadata": {},
   "outputs": [],
   "source": [
    "    "
   ]
  },
  {
   "cell_type": "code",
   "execution_count": null,
   "id": "5423c1af-75fa-4245-9178-e7aabec18b12",
   "metadata": {},
   "outputs": [],
   "source": []
  },
  {
   "cell_type": "code",
   "execution_count": null,
   "id": "f2851001-ceae-4c27-82d9-0a83da4a4270",
   "metadata": {},
   "outputs": [],
   "source": []
  },
  {
   "cell_type": "code",
   "execution_count": null,
   "id": "2a27290f-378c-4308-b4aa-8e1df920b0dc",
   "metadata": {},
   "outputs": [],
   "source": []
  },
  {
   "cell_type": "code",
   "execution_count": null,
   "id": "cbb4c2b2-ca11-4a23-80dc-135aa4202e22",
   "metadata": {},
   "outputs": [],
   "source": []
  }
 ],
 "metadata": {
  "kernelspec": {
   "display_name": "Python [conda env:base] *",
   "language": "python",
   "name": "conda-base-py"
  },
  "language_info": {
   "codemirror_mode": {
    "name": "ipython",
    "version": 3
   },
   "file_extension": ".py",
   "mimetype": "text/x-python",
   "name": "python",
   "nbconvert_exporter": "python",
   "pygments_lexer": "ipython3",
   "version": "3.12.7"
  }
 },
 "nbformat": 4,
 "nbformat_minor": 5
}
